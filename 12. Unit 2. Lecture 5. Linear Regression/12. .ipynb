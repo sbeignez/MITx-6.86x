{
 "cells": [
  {
   "cell_type": "markdown",
   "source": [
    "# 12. Unit 2. Lecture 5\n",
    "## 4. Empirical Risk"
   ],
   "metadata": {}
  },
  {
   "cell_type": "code",
   "execution_count": 3,
   "source": [
    "import numpy as np"
   ],
   "outputs": [],
   "metadata": {}
  },
  {
   "cell_type": "code",
   "execution_count": 10,
   "source": [
    "X = np.array([1,0,1,1,1,1,1,1,-1,-1,1,1])\n",
    "X = X.reshape(4,3)\n",
    "X"
   ],
   "outputs": [
    {
     "output_type": "execute_result",
     "data": {
      "text/plain": [
       "array([[ 1,  0,  1],\n",
       "       [ 1,  1,  1],\n",
       "       [ 1,  1, -1],\n",
       "       [-1,  1,  1]])"
      ]
     },
     "metadata": {},
     "execution_count": 10
    }
   ],
   "metadata": {}
  },
  {
   "cell_type": "code",
   "execution_count": 11,
   "source": [
    "y = np.array([2,2.7,-.7,2.]).reshape(4,1)\n",
    "y"
   ],
   "outputs": [
    {
     "output_type": "execute_result",
     "data": {
      "text/plain": [
       "array([[ 2. ],\n",
       "       [ 2.7],\n",
       "       [-0.7],\n",
       "       [ 2. ]])"
      ]
     },
     "metadata": {},
     "execution_count": 11
    }
   ],
   "metadata": {}
  },
  {
   "cell_type": "code",
   "execution_count": 14,
   "source": [
    "theta = np.array([0,1,2]).reshape(3,1)\n",
    "theta"
   ],
   "outputs": [
    {
     "output_type": "execute_result",
     "data": {
      "text/plain": [
       "array([[0],\n",
       "       [1],\n",
       "       [2]])"
      ]
     },
     "metadata": {},
     "execution_count": 14
    }
   ],
   "metadata": {}
  },
  {
   "cell_type": "code",
   "execution_count": 15,
   "source": [
    "def Loss_h(z):\n",
    "    if z >= 1:\n",
    "        return 0\n",
    "    else:\n",
    "        return 1 - z"
   ],
   "outputs": [],
   "metadata": {}
  },
  {
   "cell_type": "code",
   "execution_count": 24,
   "source": [
    "def Risk(theta, X, y, loss):\n",
    "    observations, features = X.shape\n",
    "\n",
    "    print(\"X\", X)\n",
    "\n",
    "    P = (y - np.dot(X, theta))\n",
    "    print(\"P\", P)\n",
    "\n",
    "    H = np.vectorize(loss)(P)\n",
    "    print(\"H\", H)\n",
    "\n",
    "    r = 1. / observations * np.sum(H)\n",
    "\n",
    "    return r\n",
    "\n",
    "Risk(theta, X, y, Loss_h)"
   ],
   "outputs": [
    {
     "output_type": "stream",
     "name": "stdout",
     "text": [
      "X [[ 1  0  1]\n",
      " [ 1  1  1]\n",
      " [ 1  1 -1]\n",
      " [-1  1  1]]\n",
      "P [[ 0. ]\n",
      " [-0.3]\n",
      " [ 0.3]\n",
      " [-1. ]]\n",
      "H [[1. ]\n",
      " [1.3]\n",
      " [0.7]\n",
      " [2. ]]\n"
     ]
    },
    {
     "output_type": "execute_result",
     "data": {
      "text/plain": [
       "1.25"
      ]
     },
     "metadata": {},
     "execution_count": 24
    }
   ],
   "metadata": {}
  },
  {
   "cell_type": "code",
   "execution_count": 25,
   "source": [
    "def Loss_se(x):\n",
    "    return x * x * .5\n",
    "\n",
    "Risk(theta, X, y, Loss_se)"
   ],
   "outputs": [
    {
     "output_type": "stream",
     "name": "stdout",
     "text": [
      "X [[ 1  0  1]\n",
      " [ 1  1  1]\n",
      " [ 1  1 -1]\n",
      " [-1  1  1]]\n",
      "P [[ 0. ]\n",
      " [-0.3]\n",
      " [ 0.3]\n",
      " [-1. ]]\n",
      "H [[0.   ]\n",
      " [0.045]\n",
      " [0.045]\n",
      " [0.5  ]]\n"
     ]
    },
    {
     "output_type": "execute_result",
     "data": {
      "text/plain": [
       "0.1475"
      ]
     },
     "metadata": {},
     "execution_count": 25
    }
   ],
   "metadata": {}
  },
  {
   "cell_type": "code",
   "execution_count": null,
   "source": [],
   "outputs": [],
   "metadata": {}
  }
 ],
 "metadata": {
  "orig_nbformat": 4,
  "language_info": {
   "name": "python",
   "version": "3.9.4",
   "mimetype": "text/x-python",
   "codemirror_mode": {
    "name": "ipython",
    "version": 3
   },
   "pygments_lexer": "ipython3",
   "nbconvert_exporter": "python",
   "file_extension": ".py"
  },
  "kernelspec": {
   "name": "python3",
   "display_name": "Python 3.9.4 64-bit ('mitx': venv)"
  },
  "interpreter": {
   "hash": "15e51f281b74df870bc96395af709f6aec195f784becb22e402cd9ef36232d0d"
  }
 },
 "nbformat": 4,
 "nbformat_minor": 2
}