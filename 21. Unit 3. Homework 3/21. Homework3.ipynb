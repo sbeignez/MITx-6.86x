{
 "cells": [
  {
   "cell_type": "markdown",
   "metadata": {},
   "source": [
    "# 21. Homework 3. Neural Networks"
   ]
  },
  {
   "cell_type": "markdown",
   "metadata": {},
   "source": [
    "## 1. Neural Netweoks"
   ]
  },
  {
   "cell_type": "markdown",
   "metadata": {},
   "source": [
    "In this problem we will analyze a simple neural network to understand its classification properties. Consider the neural network given in the figure below, with ReLU activation functions (denoted by $f$) on all neurons, and a softmax activation function in the output layer:\n",
    "\n",
    "![img](img/images_hw4_p1.png)"
   ]
  },
  {
   "cell_type": "markdown",
   "metadata": {},
   "source": [
    "### 1. Q1\n"
   ]
  },
  {
   "cell_type": "code",
   "execution_count": 38,
   "metadata": {},
   "outputs": [
    {
     "name": "stdout",
     "output_type": "stream",
     "text": [
      "[[ 3. 14.  1.]]\n",
      "[[ 1.  0. -1.]\n",
      " [ 0.  1. -1.]\n",
      " [-1.  0. -1.]\n",
      " [ 0. -1. -1.]]\n",
      "[[ 1.  1.  1.  1.  0.]\n",
      " [-1. -1. -1. -1.  2.]]\n",
      "Z:  [[  2.  13.  -4. -15.]]\n",
      "F:  [[ 2. 13.  0.  0.]]\n",
      "[[ 15. -13.]]\n",
      "[[15.  0.]]\n"
     ]
    }
   ],
   "source": [
    "import numpy as np\n",
    "import math\n",
    "\n",
    "X = np.array([3.,14,1], dtype=np.float64).reshape([1,3])\n",
    "W = np.array([1,0,-1,0,1,-1,-1,0,-1,0,-1,-1], dtype=np.float64).reshape([4,3])\n",
    "V = np.array([1,1,1,1,0,-1,-1,-1,-1,2],dtype=np.float64).reshape([2,5])\n",
    "\n",
    "print(X, W, V, sep='\\n')\n",
    "\n",
    "def ReLU(x):\n",
    "    return max(x, 0)\n",
    "\n",
    "Z = X @ W.T \n",
    "print(\"Z: \", Z)\n",
    "\n",
    "F = np.vectorize(ReLU)(X @ W.T)\n",
    "print(\"F: \", F)\n",
    "\n",
    "F2 = np.c_[ F, np.ones(F.shape[0])]\n",
    "\n",
    "U = F2 @ V.T\n",
    "print(U)\n",
    "\n",
    "FU = np.vectorize(ReLU)(U)\n",
    "print(FU)"
   ]
  },
  {
   "cell_type": "code",
   "execution_count": 39,
   "metadata": {},
   "outputs": [],
   "source": [
    "# X = np.array([3.,14,1], dtype=np.float64).reshape([1,3])\n",
    "# Y = np.array([3.,14,1], dtype=np.float64).reshape([3,1])\n",
    "\n",
    "# print(X)\n",
    "# print(Y)"
   ]
  },
  {
   "cell_type": "code",
   "execution_count": 40,
   "metadata": {},
   "outputs": [],
   "source": [
    "from math import exp\n",
    "\n",
    "def o(u1, u2):\n",
    "    return exp(u1) / (exp(u1) + exp(u2))\n",
    "\n",
    "# print(\"o1\", o(15, 0))\n",
    "# print(\"o2\", o(0, 15))"
   ]
  },
  {
   "cell_type": "markdown",
   "metadata": {},
   "source": [
    "### 1. Q2"
   ]
  },
  {
   "cell_type": "code",
   "execution_count": 41,
   "metadata": {},
   "outputs": [],
   "source": [
    "# print(o(1,1))\n",
    "# print(o(0,2))\n",
    "# print(o(3,0))\n"
   ]
  },
  {
   "cell_type": "code",
   "execution_count": 42,
   "metadata": {},
   "outputs": [],
   "source": [
    "def oo(u1,u2,beta):\n",
    "    return exp( beta * ReLU(u1)) / ( exp( beta * ReLU(u1)) + exp( beta * ReLU(u2)))"
   ]
  },
  {
   "cell_type": "code",
   "execution_count": null,
   "metadata": {},
   "outputs": [],
   "source": []
  },
  {
   "cell_type": "code",
   "execution_count": null,
   "metadata": {},
   "outputs": [],
   "source": []
  },
  {
   "cell_type": "markdown",
   "metadata": {},
   "source": [
    "### Inverse Temperature"
   ]
  },
  {
   "cell_type": "markdown",
   "metadata": {},
   "source": [
    "https://en.wikipedia.org/wiki/Softmax_function\n",
    "softmax( z + c ) = softmax( z ) "
   ]
  },
  {
   "cell_type": "code",
   "execution_count": null,
   "metadata": {},
   "outputs": [],
   "source": []
  },
  {
   "cell_type": "markdown",
   "metadata": {},
   "source": [
    "## 2. LSTM"
   ]
  },
  {
   "cell_type": "markdown",
   "metadata": {},
   "source": [
    "A Sigmoid function is a function with a S shaped curve\n",
    "\n",
    "In ML, the term \"sigmoid fuction\" is an alias fro the logistics function.\n",
    "\n",
    "$$ sigmoid(x) = { 1 \\over (1 + e^{-x}) } $$\n",
    "$$ = { e^x \\over (e^x + 1) } $$\n",
    "\n",
    "\n",
    "Sources:\n",
    "* [Sigmoid - Wikipedia](https://en.wikipedia.org/wiki/Sigmoid_function)"
   ]
  },
  {
   "cell_type": "code",
   "execution_count": 43,
   "metadata": {},
   "outputs": [],
   "source": [
    "import math\n",
    "\n",
    "def sigmoid(x):\n",
    "    return 1 / (1 + math.exp(-x))\n",
    "\n",
    "# print(0, sigmoid(0))\n",
    "# print(-1, sigmoid(-1))\n"
   ]
  },
  {
   "cell_type": "code",
   "execution_count": 44,
   "metadata": {},
   "outputs": [],
   "source": [
    "def tanh(x):\n",
    "    return((math.exp(x) - math.exp(-x)) / (math.exp(x) + math.exp(-x)))"
   ]
  },
  {
   "cell_type": "markdown",
   "metadata": {},
   "source": [
    "$$ f_t = sigmoid(W^{f,h}h_{t-1} + W^{f,x}x_{t} + b_f) $$\n"
   ]
  },
  {
   "cell_type": "code",
   "execution_count": 45,
   "metadata": {},
   "outputs": [],
   "source": [
    "W_fh = 0.\n",
    "W_ih = 0.\n",
    "W_oh = 0\n",
    "W_fx = 0.\n",
    "W_ix = 100.\n",
    "W_ox = 100\n",
    "b_f = -100.\n",
    "b_i = 100.\n",
    "b_o = 0\n",
    "W_ch = -100.\n",
    "W_cx = 50\n",
    "b_c = 0"
   ]
  },
  {
   "cell_type": "code",
   "execution_count": 46,
   "metadata": {},
   "outputs": [
    {
     "name": "stdout",
     "output_type": "stream",
     "text": [
      "[None, None, None, None, None, None, 0]\n"
     ]
    }
   ],
   "source": [
    "nsteps = 6\n",
    "\n",
    "h = [None] * (nsteps + 1)\n",
    "h[-1] = 0\n",
    "\n",
    "c = [None] * (nsteps + 1)\n",
    "c[-1] = 0\n",
    "\n",
    "x = [0.] * (nsteps + 1)\n",
    "\n",
    "print(h)"
   ]
  },
  {
   "cell_type": "code",
   "execution_count": 47,
   "metadata": {},
   "outputs": [],
   "source": [
    "def forget_gate(t, h, x, W_fh=W_fh, W_fx=W_fx, b_f=b_f):\n",
    "    return sigmoid(W_fh * h[t-1] + W_fx * x[t] + b_f)"
   ]
  },
  {
   "cell_type": "markdown",
   "metadata": {},
   "source": [
    "$$ i_t = sigmoid(W^{i,h}h_{t-1} + W^{i,x}x_{t} + b_i) $$"
   ]
  },
  {
   "cell_type": "code",
   "execution_count": 48,
   "metadata": {},
   "outputs": [],
   "source": [
    "def input_gate(t, h, x, W_ih=W_ih, W_ix=W_ix, b_i=b_i):\n",
    "    return sigmoid(W_ih * h[t-1] + W_ix * x[t] + b_i)\n"
   ]
  },
  {
   "cell_type": "markdown",
   "metadata": {},
   "source": [
    "$$ o_t = sigmoid(W^{o,h}h_{t-1} + W^{o,x}x_{t} + b_o) $$"
   ]
  },
  {
   "cell_type": "code",
   "execution_count": 49,
   "metadata": {},
   "outputs": [],
   "source": [
    "def output_gate(t, h, x, W_oh=W_oh, W_ox=W_ox, b_o=b_o):\n",
    "    return sigmoid(W_oh * h[t-1] + W_ox * x[t] + b_o)"
   ]
  },
  {
   "cell_type": "markdown",
   "metadata": {},
   "source": [
    "$$ c_t = f_t \\odot c_{t-1} + i_t \\odot tanh(W^{c,h}h_{t-1} + W^{c,x}x_{t} + b_c) $$"
   ]
  },
  {
   "cell_type": "code",
   "execution_count": 50,
   "metadata": {},
   "outputs": [],
   "source": [
    "def cell(t, h, x, W_ch=W_ch, W_cx=W_cx, b_c=b_c):\n",
    "    return forget_gate(t, h, x) * c[t-1] + input_gate(t, h, x) * tanh(W_ch * h[t-1] + W_cx * x[t] + b_c)"
   ]
  },
  {
   "cell_type": "code",
   "execution_count": 51,
   "metadata": {},
   "outputs": [],
   "source": [
    "# print(round(0.5))\n",
    "# print(round(-0.5))\n",
    "\n",
    "def h_state(t, h, x):\n",
    "    return round(output_gate(t, h, x) * tanh(cell(t, h, x)))"
   ]
  },
  {
   "cell_type": "code",
   "execution_count": 52,
   "metadata": {},
   "outputs": [],
   "source": [
    "def learn():\n",
    "    for t in range(nsteps):\n",
    "\n",
    "        c[t] = cell(t, h, x)\n",
    "        h[t] = h_state(t, h, x)\n",
    "        \n",
    "    print(\"h\", h[:nsteps+1])\n",
    "\n",
    "# learn()"
   ]
  },
  {
   "cell_type": "code",
   "execution_count": 53,
   "metadata": {},
   "outputs": [],
   "source": [
    "# print(\"h\", h[:6])"
   ]
  },
  {
   "cell_type": "code",
   "execution_count": 54,
   "metadata": {},
   "outputs": [],
   "source": [
    "# nsteps = 10\n",
    "\n",
    "# h = [None] * (nsteps + 1)\n",
    "# h[-1] = 0\n",
    "\n",
    "# print(h)\n",
    "\n",
    "# c = [None] * (nsteps + 1)\n",
    "# c[-1] = 0\n",
    "\n",
    "# x = [0.,0.,0.,0.,0.,0.,0.,0.,0.,0.]\n",
    "\n",
    "# for t in range(nsteps):\n",
    "\n",
    "#     c[t] = cell(t, h, x)\n",
    "#     h[t] = h_state(t, h, x)\n",
    "    \n",
    "# print(\"h\", h[:nsteps+1])"
   ]
  },
  {
   "cell_type": "markdown",
   "metadata": {},
   "source": [
    "## 3. Backpropagation"
   ]
  },
  {
   "cell_type": "markdown",
   "metadata": {},
   "source": [
    "One of the key steps for training multi-layer neural networks is stochastic gradient descent. We will use the back-propagation algorithm to compute the gradient of the loss function with respect to the model parameters.\n",
    "\n",
    "Consider the $L$-layer neural network below:\n",
    "\n"
   ]
  },
  {
   "cell_type": "markdown",
   "metadata": {},
   "source": [
    "https://denizyuret.github.io/Knet.jl/latest/backprop/\n",
    "http://neuralnetworksanddeeplearning.com/chap2.html "
   ]
  },
  {
   "cell_type": "code",
   "execution_count": 55,
   "metadata": {},
   "outputs": [],
   "source": [
    "import math\n",
    "def sigmoid(x):\n",
    "    return 1 / (1 + math.exp(-x))\n",
    "\n",
    "def dSigmoid(x):\n",
    "    return sigmoid(x)*(1-sigmoid(x))"
   ]
  },
  {
   "cell_type": "code",
   "execution_count": 56,
   "metadata": {},
   "outputs": [],
   "source": [
    "def LossC(y, t):\n",
    "    return 1/2 * (y-t)**2"
   ]
  },
  {
   "cell_type": "code",
   "execution_count": 57,
   "metadata": {},
   "outputs": [],
   "source": [
    "t = 1\n",
    "x = 3\n",
    "w_1 = 0.01\n",
    "w_2 = -5\n",
    "b = -1"
   ]
  },
  {
   "cell_type": "code",
   "execution_count": 58,
   "metadata": {},
   "outputs": [
    {
     "name": "stdout",
     "output_type": "stream",
     "text": [
      "z_1 0.03\n",
      "a_1 0.03\n",
      "z_2 -1.15\n",
      "y 0.24048908305088898\n",
      "C 0.28842841648243966\n",
      "Loss 0.28842841648243966\n"
     ]
    }
   ],
   "source": [
    "z_1 = w_1 * x\n",
    "print(\"z_1\",z_1)\n",
    "\n",
    "a_1 = ReLU(z_1)\n",
    "print(\"a_1\",a_1)\n",
    "\n",
    "z_2 = w_2 * a_1 + b\n",
    "print(\"z_2\",z_2)\n",
    "\n",
    "y = sigmoid(z_2)\n",
    "print(\"y\", y)\n",
    "\n",
    "C = LossC(y, t)\n",
    "print(\"C\", C)\n",
    "print(\"Loss\", 0.28842841648243966)"
   ]
  },
  {
   "cell_type": "code",
   "execution_count": 59,
   "metadata": {},
   "outputs": [],
   "source": [
    "def dLossC(w, x, t):\n",
    "    return 2*x*(w*x-t)"
   ]
  },
  {
   "cell_type": "code",
   "execution_count": 60,
   "metadata": {},
   "outputs": [
    {
     "data": {
      "text/plain": [
       "-0.06899999999999999"
      ]
     },
     "execution_count": 60,
     "metadata": {},
     "output_type": "execute_result"
    }
   ],
   "source": [
    "dLossC(w_2, w_1*x, t)"
   ]
  },
  {
   "cell_type": "code",
   "execution_count": 61,
   "metadata": {},
   "outputs": [],
   "source": [
    "# import torch\n",
    "# x1 = torch.tensor(3., requires_grad=False,  dtype=torch.float64)\n",
    "# x2 = torch.tensor(1., requires_grad=False,  dtype=torch.float64)\n",
    "\n",
    "# w11 = torch.tensor(6., requires_grad=True)\n",
    "# w21 = torch.tensor(-2., requires_grad=True)\n",
    "# w12 = torch.tensor(-3., requires_grad=True)\n",
    "# w22 = torch.tensor(5., requires_grad=True)\n",
    "\n",
    "# v11 = torch.tensor(1., requires_grad=True)\n",
    "# v21 = torch.tensor(0.25, requires_grad=True)\n",
    "# v12 = torch.tensor(-2., requires_grad=True)\n",
    "# v22 = torch.tensor(2., requires_grad=True)\n",
    "\n",
    "# t1 = torch.tensor(1., requires_grad=False)\n",
    "# t2 = torch.tensor(0., requires_grad=False)\n",
    "\n",
    "# # calculating the hidden layer \n",
    "# h1 = torch.sigmoid(w11*x1 + w21*x2)\n",
    "# h2 = torch.sigmoid(w12*x1 + w22*x2)\n",
    "\n",
    "# # calculating the output layer\n",
    "# y1 = torch.sigmoid(v11*h1 + v21*h2)\n",
    "# y2 = torch.sigmoid(v12*h1 + v22*h2)\n",
    "\n",
    "# e1 = y1 - t1\n",
    "# e2 = y2 - t2\n",
    "\n",
    "# # the loss function \n",
    "# l = e1**2 + e2**2 \n",
    "\n",
    "# l.backward()\n",
    "\n",
    "# print(\"First layer gradients by framework\")\n",
    "# print(w11.grad, w12.grad)\n",
    "# print(w21.grad, w22.grad)\n",
    "# #>>> tensor(-5.6607e-08) tensor(0.0014)\n",
    "# #>>> tensor(-1.8869e-08) tensor(0.0005)\n",
    "\n",
    "# print(\"First layer gradients manually\")\n",
    "# print(grad_w11, grad_w12)\n",
    "# print(grad_w21, grad_w22) "
   ]
  },
  {
   "cell_type": "code",
   "execution_count": 62,
   "metadata": {},
   "outputs": [],
   "source": [
    "import torch\n",
    "x = torch.tensor(3., requires_grad=False, dtype=torch.float64)\n",
    "w1 = torch.tensor(0.01, requires_grad=True)\n",
    "b = torch.tensor(-1., requires_grad=True)\n",
    "w2 = torch.tensor(-5., requires_grad=True)\n",
    "t = torch.tensor(1., requires_grad=False)\n",
    "\n",
    "# calculating the hidden layer \n",
    "h1 = w1*x\n",
    "\n",
    "# calculating the output layer\n",
    "y1 = torch.sigmoid(w2*h1 + b)\n",
    "\n",
    "e = y1 - t\n",
    "\n",
    "# the loss function \n",
    "C = 1/2*(e**2) \n",
    "\n",
    "C.backward()\n",
    "\n",
    "# print(w1.grad)\n",
    "# print(w2.grad)\n",
    "# print(b.grad)"
   ]
  },
  {
   "cell_type": "markdown",
   "metadata": {},
   "source": [
    "## 4. Words embeddings"
   ]
  },
  {
   "cell_type": "markdown",
   "metadata": {},
   "source": [
    "* [ ] The first network cannot classify the sequence correctly\n",
    "* [ ] The second network cannot classify the sequence correctly\n",
    "* [ ] The second network has a fighting chance at classifying the sequence\n",
    "* [ ] The first network has a fighting chance at classifying the sequence\n",
    "\n",
    "https://towardsdatascience.com/neural-network-embeddings-explained-4d028e6f0526 \n",
    "\n",
    "Embedding: a method used to {represent|map} a {discrete|categorical} variables as a vector of continuous numbers.\n",
    "Low dimension, learn \n",
    "Reduce dimensionality\n",
    "\n",
    "3 purposes:\n",
    "- find nearest neighbors\n",
    "- as input to a machine learning model for a supervised task\n",
    "- for visualization of concepts and relations between categories\n",
    "\n",
    "Overcome limitation of one-hot encoding\n",
    "Drawbacks:\n",
    "- size of the matrix (1 dim per category)\n",
    "- mapping contains no meaning\n",
    "\n",
    "embedding NN + supervised task (train with data)\n",
    "\n",
    "\n"
   ]
  }
 ],
 "metadata": {
  "interpreter": {
   "hash": "6901038fa2fcd02ac3ace02f6bb6643ab81c1e9472821c23450f8affb24b877b"
  },
  "kernelspec": {
   "display_name": "Python 3.9.4 64-bit ('mitx': venv)",
   "name": "python3"
  },
  "language_info": {
   "codemirror_mode": {
    "name": "ipython",
    "version": 3
   },
   "file_extension": ".py",
   "mimetype": "text/x-python",
   "name": "python",
   "nbconvert_exporter": "python",
   "pygments_lexer": "ipython3",
   "version": "3.9.4"
  },
  "orig_nbformat": 4
 },
 "nbformat": 4,
 "nbformat_minor": 2
}
