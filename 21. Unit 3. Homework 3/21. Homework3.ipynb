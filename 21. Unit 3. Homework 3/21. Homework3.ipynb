{
 "cells": [
  {
   "cell_type": "markdown",
   "metadata": {},
   "source": [
    "# 21. Homework 3. Neural Networks"
   ]
  },
  {
   "cell_type": "markdown",
   "metadata": {},
   "source": [
    "## 1. Neural Netweoks"
   ]
  },
  {
   "cell_type": "markdown",
   "metadata": {},
   "source": [
    "In this problem we will analyze a simple neural network to understand its classification properties. Consider the neural network given in the figure below, with ReLU activation functions (denoted by $f$) on all neurons, and a softmax activation function in the output layer:\n",
    "\n",
    "![img](img/images_hw4_p1.png)"
   ]
  },
  {
   "cell_type": "markdown",
   "metadata": {},
   "source": [
    "### 1. Q1\n"
   ]
  },
  {
   "cell_type": "code",
   "execution_count": 21,
   "metadata": {},
   "outputs": [
    {
     "name": "stdout",
     "output_type": "stream",
     "text": [
      "[[ 3. 14.  1.]]\n",
      "[[ 1.  0. -1.]\n",
      " [ 0.  1. -1.]\n",
      " [-1.  0. -1.]\n",
      " [ 0. -1. -1.]]\n",
      "[[ 1.  1.  1.  1.  0.]\n",
      " [-1. -1. -1. -1.  2.]]\n",
      "Z:  [[  2.  13.  -4. -15.]]\n",
      "F:  [[ 2. 13.  0.  0.]]\n",
      "[[ 15. -13.]]\n",
      "[[15.  0.]]\n"
     ]
    }
   ],
   "source": [
    "import numpy as np\n",
    "import math\n",
    "\n",
    "X = np.array([3.,14,1], dtype=np.float64).reshape([1,3])\n",
    "W = np.array([1,0,-1,0,1,-1,-1,0,-1,0,-1,-1], dtype=np.float64).reshape([4,3])\n",
    "V = np.array([1,1,1,1,0,-1,-1,-1,-1,2],dtype=np.float64).reshape([2,5])\n",
    "\n",
    "print(X, W, V, sep='\\n')\n",
    "\n",
    "def ReLU(x):\n",
    "    return max(x, 0)\n",
    "\n",
    "Z = X @ W.T \n",
    "print(\"Z: \", Z)\n",
    "\n",
    "F = np.vectorize(ReLU)(X @ W.T)\n",
    "print(\"F: \", F)\n",
    "\n",
    "F2 = np.c_[ F, np.ones(F.shape[0])]\n",
    "\n",
    "U = F2 @ V.T\n",
    "print(U)\n",
    "\n",
    "FU = np.vectorize(ReLU)(U)\n",
    "print(FU)"
   ]
  },
  {
   "cell_type": "code",
   "execution_count": 26,
   "metadata": {},
   "outputs": [],
   "source": [
    "# X = np.array([3.,14,1], dtype=np.float64).reshape([1,3])\n",
    "# Y = np.array([3.,14,1], dtype=np.float64).reshape([3,1])\n",
    "\n",
    "# print(X)\n",
    "# print(Y)"
   ]
  },
  {
   "cell_type": "code",
   "execution_count": 25,
   "metadata": {},
   "outputs": [],
   "source": [
    "from math import exp\n",
    "\n",
    "def o(u1, u2):\n",
    "    return exp(u1) / (exp(u1) + exp(u2))\n",
    "\n",
    "# print(\"o1\", o(15, 0))\n",
    "# print(\"o2\", o(0, 15))"
   ]
  },
  {
   "cell_type": "markdown",
   "metadata": {},
   "source": [
    "### 1. Q2"
   ]
  },
  {
   "cell_type": "code",
   "execution_count": 24,
   "metadata": {},
   "outputs": [],
   "source": [
    "# print(o(1,1))\n",
    "# print(o(0,2))\n",
    "# print(o(3,0))\n"
   ]
  },
  {
   "cell_type": "code",
   "execution_count": 23,
   "metadata": {},
   "outputs": [],
   "source": [
    "def oo(u1,u2,beta):\n",
    "    return exp( beta * ReLU(u1)) / ( exp( beta * ReLU(u1)) + exp( beta * ReLU(u2)))"
   ]
  },
  {
   "cell_type": "markdown",
   "metadata": {},
   "source": [
    "## 2. LSTM"
   ]
  },
  {
   "cell_type": "markdown",
   "metadata": {},
   "source": [
    "## 3. Backpropagation"
   ]
  },
  {
   "cell_type": "markdown",
   "metadata": {},
   "source": [
    "## 4. Words embeddings"
   ]
  },
  {
   "cell_type": "markdown",
   "metadata": {},
   "source": [
    "* [ ] The first network cannot classify the sequence correctly\n",
    "* [ ] The second network cannot classify the sequence correctly\n",
    "* [ ] The second network has a fighting chance at classifying the sequence\n",
    "* [ ] The first network has a fighting chance at classifying the sequence\n",
    "\n",
    "b, d incorrect (tested)  \n",
    "a, b incorrect (..)  \n",
    "c, d ??\n"
   ]
  }
 ],
 "metadata": {
  "interpreter": {
   "hash": "6901038fa2fcd02ac3ace02f6bb6643ab81c1e9472821c23450f8affb24b877b"
  },
  "kernelspec": {
   "display_name": "Python 3.9.4 64-bit ('mitx': venv)",
   "name": "python3"
  },
  "language_info": {
   "codemirror_mode": {
    "name": "ipython",
    "version": 3
   },
   "file_extension": ".py",
   "mimetype": "text/x-python",
   "name": "python",
   "nbconvert_exporter": "python",
   "pygments_lexer": "ipython3",
   "version": "3.9.4"
  },
  "orig_nbformat": 4
 },
 "nbformat": 4,
 "nbformat_minor": 2
}
