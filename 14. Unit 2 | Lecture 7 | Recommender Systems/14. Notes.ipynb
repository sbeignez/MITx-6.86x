{
 "cells": [
  {
   "cell_type": "markdown",
   "source": [
    "# 14. Lecture 7. Recommender Systems"
   ],
   "metadata": {}
  },
  {
   "cell_type": "markdown",
   "source": [
    "At the end of this lecture, you will be able to\n",
    "\n",
    "* understand the problem definition and assumptions of recommender systems\n",
    "\n",
    "* understand the impact of similarity measures in the K-Nearest Neighbor method\n",
    "\n",
    "* understand the need to impose the low rank assumption in collaborative filtering\n",
    "\n",
    "* iteratively find values of  and  (given ) in collaborative filtering"
   ],
   "metadata": {}
  },
  {
   "cell_type": "markdown",
   "source": [
    "## 7.2 Introduction"
   ],
   "metadata": {}
  },
  {
   "cell_type": "markdown",
   "source": [
    "* problem definition\n",
    "* K-Nearest algorithm KNN\n",
    "* Matrix factorization (collaborative filtering)"
   ],
   "metadata": {}
  },
  {
   "cell_type": "markdown",
   "source": [
    "Ex: Netflix recommendation\n",
    "\n",
    "n users, m movies: matrix  \n",
    "$ Y_n,m $\n",
    "\n",
    ".5 millions users, 18000 movies: Sparse matrix\n",
    "\n",
    "approach 1: features and linear regression\n",
    "issue: get the features\n",
    "issue: need enought data point \n",
    "\n",
    "approach 2: find similar users\n",
    "\n"
   ],
   "metadata": {}
  },
  {
   "cell_type": "markdown",
   "source": [
    "## 7.3 K-Nearest Neighbor Method"
   ],
   "metadata": {}
  },
  {
   "cell_type": "markdown",
   "source": [
    "$ \\hat{Y}_ai = 1/K* \\sum_{KNN} Y_{bi} $\n",
    "\n",
    "with average\n",
    "\n",
    "Compute the similarity (euclidien, other)\n",
    "\n",
    "$ \\hat{Y}_ai = 1/K* \\sum_{KNN} * Sim * Y_{bi} $\n",
    "\n",
    "with weighted average using similarity\n",
    "\n",
    "Deviation from the average score\n",
    "\n",
    "Different euristics"
   ],
   "metadata": {}
  },
  {
   "cell_type": "markdown",
   "source": [
    "## 7.4 Collaborative Filtering: the naive approach"
   ],
   "metadata": {}
  },
  {
   "cell_type": "markdown",
   "source": [
    "Input matrix\n",
    "Output matrix\n",
    "\n",
    "$$ J(X) = \\sum_{(a,i) \\in D} (Y_{ai} - X_{ai}^2/2)  \\\\\n",
    "+ \\lambda/2 \\sum X_{ai}^2\n",
    "$$\n",
    "\n",
    "Differentiate: = 0\n",
    "\n",
    "$ X_{ai} = Y_{ai}/{1 + / (1+ \\lambda)}"
   ],
   "metadata": {}
  },
  {
   "cell_type": "markdown",
   "source": [
    "## 7.5 Collaborative Filtering with Matrix Factorization"
   ],
   "metadata": {}
  },
  {
   "cell_type": "markdown",
   "source": [
    "Assumption: X is low rank\n",
    "\n",
    "Rank: Factorize\n",
    "D( n * m )  parameters > n + m\n",
    "\n",
    "rank 1: \n",
    "\n",
    "$ X = UV^T $ \n",
    "\n",
    "rank 2: \n",
    "\n",
    "$$\n",
    "\\begin{bmatrix} 1 & 2 \\\\ .. & .. \\\\ .. & .. \\end{bmatrix}\n",
    "\\cdot\n",
    "\\begin{bmatrix} 3 & 4 & 5 \\\\ .. & .. & .. \\end{bmatrix}\n",
    " $$"
   ],
   "metadata": {}
  },
  {
   "cell_type": "markdown",
   "source": [],
   "metadata": {}
  },
  {
   "cell_type": "markdown",
   "source": [
    "## 7.6 Alternating Minimization"
   ],
   "metadata": {}
  },
  {
   "cell_type": "markdown",
   "source": [
    "Convergenace? Local optimal"
   ],
   "metadata": {}
  }
 ],
 "metadata": {
  "orig_nbformat": 4,
  "language_info": {
   "name": "python"
  }
 },
 "nbformat": 4,
 "nbformat_minor": 2
}