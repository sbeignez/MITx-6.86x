{
 "cells": [
  {
   "cell_type": "markdown",
   "metadata": {},
   "source": [
    "# 14. Lecture 7. Recommender Systems"
   ]
  },
  {
   "cell_type": "markdown",
   "metadata": {},
   "source": [
    "## 14.1. Objectives"
   ]
  },
  {
   "cell_type": "markdown",
   "metadata": {},
   "source": [
    "\n",
    "* understand the problem definition and assumptions of recommender systems\n",
    "* understand the impact of similarity measures in the K-Nearest Neighbor method\n",
    "* understand the need to impose the low rank assumption in collaborative filtering\n",
    "* iteratively find values of  and  (given ) in collaborative filtering"
   ]
  },
  {
   "cell_type": "markdown",
   "metadata": {},
   "source": [
    "## 14.2 Introduction"
   ]
  },
  {
   "cell_type": "markdown",
   "metadata": {},
   "source": [
    "* problem definition\n",
    "* K-Nearest algorithm KNN\n",
    "* Matrix factorization (collaborative filtering)"
   ]
  },
  {
   "cell_type": "markdown",
   "metadata": {},
   "source": [
    "Ex: Netflix recommendation\n",
    "\n",
    "n users, m movies: matrix  \n",
    "$ Y_n,m $\n",
    "\n",
    ".5 millions users, 18000 movies: Sparse matrix\n",
    "\n",
    "approach 1: features and linear regression\n",
    "issue: get the features\n",
    "issue: need enought data point \n",
    "\n",
    "approach 2: find similar users\n",
    "\n"
   ]
  },
  {
   "cell_type": "markdown",
   "metadata": {},
   "source": [
    "## 14.3 K-Nearest Neighbor Method"
   ]
  },
  {
   "cell_type": "markdown",
   "metadata": {},
   "source": [
    "$ \\hat{Y}_ai = 1/K* \\sum_{KNN} Y_{bi} $\n",
    "\n",
    "with average\n",
    "\n",
    "Compute the similarity (euclidien, other)\n",
    "\n",
    "$ \\hat{Y}_ai = 1/K* \\sum_{KNN} * Sim * Y_{bi} $\n",
    "\n",
    "with weighted average using similarity\n",
    "\n",
    "Deviation from the average score\n",
    "\n",
    "Different euristics"
   ]
  },
  {
   "cell_type": "markdown",
   "metadata": {},
   "source": [
    "## 14.4 Collaborative Filtering: the naive approach"
   ]
  },
  {
   "cell_type": "markdown",
   "metadata": {},
   "source": [
    "Input matrix  Y (recommendations only)  \n",
    "Output matrix  X (full)\n",
    "\n",
    "$$ J(X) = \\sum_{(a,i) \\in D} (Y_{ai} - X_{ai}^2/2) + \\lambda/2 \\sum_{(a,i)} X_{ai}^2\n",
    "$$\n",
    "\n",
    "Differentiate: \n",
    "\n",
    "For $ (a,i) \\in D $:  \n",
    "$$ {\\partial J \\over \\partial X_{ai}} = (1+ \\lambda) * X_{ai} - Y_{ai} $$\n",
    "\n",
    "For $ (a,i) \\notin D $:  \n",
    "$$ {\\partial J \\over \\partial X_{ai}} = \\lambda * X_{ai} $$"
   ]
  },
  {
   "cell_type": "markdown",
   "metadata": {},
   "source": [
    "Solve = 0:\n",
    "\n",
    "For $ (a,i) \\in D $:  \n",
    "$$ X_{ai} = Y_{ai} / (1+ \\lambda) = 0 $$\n",
    "\n",
    "\n",
    "For $ (a,i) \\notin D $:  \n",
    "$$ X_{ai} = \\lambda * X_{ai} = 0 $$"
   ]
  },
  {
   "cell_type": "markdown",
   "metadata": {},
   "source": [
    "## 7.5 Collaborative Filtering with Matrix Factorization"
   ]
  },
  {
   "cell_type": "markdown",
   "metadata": {},
   "source": [
    "Assumption: X is low rank\n",
    "\n",
    "Rank: Factorize\n",
    "D( n * m )  parameters > n + m\n",
    "\n",
    "rank 1: \n",
    "\n",
    "$ X = UV^T $ \n",
    "\n",
    "> Matrix Rank  \n",
    "> for some $nxd$ matrix $U$ and $dxm$ matrix $V^T$. The number d is the rank of the matrix X.\n",
    "\n",
    "rank 2: \n",
    "\n",
    "$$\n",
    "\\begin{bmatrix} 1 & 2 \\\\ .. & .. \\\\ .. & .. \\end{bmatrix}\n",
    "\\cdot\n",
    "\\begin{bmatrix} 3 & 4 & 5 \\\\ .. & .. & .. \\end{bmatrix}\n",
    " $$\n",
    "with:  \n",
    "$$\n",
    "\\begin{bmatrix} 1 & 2 \\\\ .. & .. \\\\ .. & .. \\end{bmatrix}\n",
    "\\begin{matrix} \\rarr user_1 \\\\ \\rarr user_2 \\\\ \\rarr user_3 \\end{matrix}\n",
    "$$\n",
    "and\n",
    "$$\n",
    "\\begin{bmatrix} 3 & 4 & 5 \\\\ .. & .. & .. \\end{bmatrix}\\\\\n",
    "\\begin{matrix} movie_1 & 4 & 5 \\end{matrix}\n",
    " $$"
   ]
  },
  {
   "cell_type": "markdown",
   "metadata": {},
   "source": []
  },
  {
   "cell_type": "markdown",
   "metadata": {},
   "source": [
    "## 7.6 Alternating Minimization"
   ]
  },
  {
   "cell_type": "markdown",
   "metadata": {},
   "source": [
    "Convergenace? Local optimal\n",
    "\n",
    "Find $U$ and $V$ that minimize this objective function:\n",
    "\n",
    "$$\n",
    "J = \\sum_{(a,i) \\in D}{(Y_{ai} - UV^T_{ai})^2 \\over 2} + {\\lambda \\over 2}(\\sum U^2 + \\sum V^2)\n",
    "$$\n",
    "\n",
    " \n",
    "To simplify the problem, we fix $U$ and solve for $V$, then fix $V$ to be the result from the previous step and solve for $U$, and repeat this alternate process until we find the solution."
   ]
  },
  {
   "cell_type": "markdown",
   "metadata": {},
   "source": [
    "### 7.6.Q2"
   ]
  },
  {
   "cell_type": "markdown",
   "metadata": {},
   "source": [
    "$$ Y = \\begin{bmatrix} 1 & 8 & ? \\\\ 2 & ? & 5 \\end{bmatrix}$$  \n",
    "  \n",
    "$$ U = \\begin{bmatrix} u_1 \\\\ u_2 \\end{bmatrix} and \\ \\  V^T = \\begin{bmatrix} 4 & 2 & 1 \\end{bmatrix}$$\n",
    "  \n",
    "$$ X = \\begin{bmatrix} 4*u_1 & 2*u_1 & 1*u_1 \\\\ 4*u_2 & 2*u_2 & 1*u_2 \\end{bmatrix}$$\n",
    "\n",
    "wolfram: derivative of (1-4x)^2/2 + (8-2x)^2/2 + lambda/2*x^2"
   ]
  },
  {
   "cell_type": "code",
   "execution_count": 7,
   "metadata": {},
   "outputs": [
    {
     "name": "stdout",
     "output_type": "stream",
     "text": [
      "[[6]\n",
      " [0]\n",
      " [3]\n",
      " [6]] [[4]\n",
      " [2]\n",
      " [1]]\n"
     ]
    }
   ],
   "source": [
    "import numpy as np\n",
    "U = np.array([6,0,3,6]).reshape(4,1)\n",
    "V = np.array([4,2,1]).reshape(3,1)\n",
    "print(U, V)"
   ]
  },
  {
   "cell_type": "code",
   "execution_count": 31,
   "metadata": {},
   "outputs": [
    {
     "name": "stdout",
     "output_type": "stream",
     "text": [
      "[[24 12  6]\n",
      " [ 0  0  0]\n",
      " [12  6  3]\n",
      " [24 12  6]]\n"
     ]
    }
   ],
   "source": [
    "X = U*V.T\n",
    "print(X)"
   ]
  },
  {
   "cell_type": "code",
   "execution_count": 32,
   "metadata": {},
   "outputs": [
    {
     "name": "stdout",
     "output_type": "stream",
     "text": [
      "[[ 5. nan  7.]\n",
      " [nan  2. nan]\n",
      " [ 4. nan nan]\n",
      " [nan  3.  6.]]\n"
     ]
    }
   ],
   "source": [
    "Y = np.array([5., np.nan, 7, np.nan, 2, np.nan, 4, np.nan, np.nan, np.nan, 3, 6]).reshape(4,3)\n",
    "print(Y)"
   ]
  },
  {
   "cell_type": "code",
   "execution_count": 14,
   "metadata": {},
   "outputs": [
    {
     "data": {
      "text/plain": [
       "nan"
      ]
     },
     "execution_count": 14,
     "metadata": {},
     "output_type": "execute_result"
    }
   ],
   "source": [
    "np.sum( (Y - X)**2 ) / 2"
   ]
  }
 ],
 "metadata": {
  "interpreter": {
   "hash": "15e51f281b74df870bc96395af709f6aec195f784becb22e402cd9ef36232d0d"
  },
  "kernelspec": {
   "display_name": "Python 3.9.4 64-bit ('mitx': venv)",
   "name": "python3"
  },
  "language_info": {
   "codemirror_mode": {
    "name": "ipython",
    "version": 3
   },
   "file_extension": ".py",
   "mimetype": "text/x-python",
   "name": "python",
   "nbconvert_exporter": "python",
   "pygments_lexer": "ipython3",
   "version": "3.9.4"
  },
  "orig_nbformat": 4
 },
 "nbformat": 4,
 "nbformat_minor": 2
}
