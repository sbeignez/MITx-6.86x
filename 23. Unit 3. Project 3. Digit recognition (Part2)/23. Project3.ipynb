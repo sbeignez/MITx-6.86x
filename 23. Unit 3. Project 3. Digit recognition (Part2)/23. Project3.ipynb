{
 "cells": [
  {
   "cell_type": "markdown",
   "metadata": {},
   "source": [
    "# 23. Unit 3. Project 3"
   ]
  },
  {
   "cell_type": "markdown",
   "metadata": {},
   "source": [
    "## P3.1"
   ]
  },
  {
   "cell_type": "markdown",
   "metadata": {},
   "source": [
    "## P3.2 Neural Network Basics"
   ]
  },
  {
   "cell_type": "markdown",
   "metadata": {},
   "source": [
    "![NN](img/images_neuralnet.png)"
   ]
  },
  {
   "cell_type": "markdown",
   "metadata": {},
   "source": [
    "Note: \n",
    "* f (hidden layer) and f (output layer) are different activation functions\n",
    "* no bias in hidden layer"
   ]
  },
  {
   "cell_type": "markdown",
   "metadata": {},
   "source": [
    "## P3.3 Activations Functions"
   ]
  },
  {
   "cell_type": "markdown",
   "metadata": {},
   "source": [
    "Hidden Layer activation function:\n",
    "* ReLU\n",
    "$$ f(x) = ReLU(x) $$"
   ]
  },
  {
   "cell_type": "code",
   "execution_count": 23,
   "metadata": {},
   "outputs": [
    {
     "data": {
      "image/png": "[encoded data removed]",
      "text/plain": [
       "<Figure size 432x288 with 1 Axes>"
      ]
     },
     "metadata": {
      "needs_background": "light"
     },
     "output_type": "display_data"
    }
   ],
   "source": [
    "# ReLU plot\n",
    "import matplotlib.pyplot as plt\n",
    "import numpy as np\n",
    "\n",
    "def ReLU(x):\n",
    "    return max(0., x)\n",
    "\n",
    "x = np.linspace(-5.,4.,100)\n",
    "y = np.vectorize(ReLU)(x)\n",
    "\n",
    "fig = plt.figure()\n",
    "ax = fig.add_subplot(1, 1, 1)\n",
    "ax.spines['left'].set_position('zero')\n",
    "ax.spines['bottom'].set_position('zero')\n",
    "ax.spines['right'].set_color('none')\n",
    "ax.spines['top'].set_color('none')\n",
    "plt.title('$f(x)= ReLU(x)$')\n",
    "\n",
    "plt.plot(x,y,'r')\n",
    "plt.show()\n"
   ]
  },
  {
   "cell_type": "markdown",
   "metadata": {},
   "source": [
    "\n",
    "Output Layer activation function:\n",
    "* identity function\n",
    "$$ g(x) = x $$"
   ]
  },
  {
   "cell_type": "markdown",
   "metadata": {},
   "source": [
    "Cost: $$ C = {1 \\over 2} || y - t || ^2 $$"
   ]
  },
  {
   "cell_type": "markdown",
   "metadata": {},
   "source": [
    "## P3.4 Training the network"
   ]
  },
  {
   "cell_type": "markdown",
   "metadata": {},
   "source": []
  },
  {
   "cell_type": "markdown",
   "metadata": {},
   "source": [
    "### P9.Extra\n"
   ]
  },
  {
   "cell_type": "markdown",
   "metadata": {},
   "source": [
    "https://www.cs.ryerson.ca/~aharley/vis/conv/flat.html"
   ]
  },
  {
   "cell_type": "markdown",
   "metadata": {},
   "source": [
    "BASE\n",
    "\n",
    "100%|███████████████████████████| 1687/1687 [00:00<00:00, 2811.13it/s]\n",
    "Train loss: 0.223966 | Train accuracy: 0.935147\n",
    "100%|█████████████████████████████| 187/187 [00:00<00:00, 6813.43it/s]\n",
    "Val loss:   0.228388 | Val accuracy:   0.932487\n",
    "100%|█████████████████████████████| 312/312 [00:00<00:00, 6152.52it/s]\n",
    "Loss on test set:0.26722694863416013 Accuracy on test set: 0.9204727564102564\n",
    "\n",
    "\n",
    "BATCH 64\n",
    "\n",
    "100%|█████████████████████████████| 843/843 [00:00<00:00, 1859.79it/s]\n",
    "Train loss: 0.225577 | Train accuracy: 0.934794\n",
    "100%|███████████████████████████████| 93/93 [00:00<00:00, 4894.78it/s]\n",
    "Val loss:   0.208171 | Val accuracy:   0.940020\n",
    "100%|█████████████████████████████| 156/156 [00:00<00:00, 3300.69it/s]\n",
    "Loss on test set:0.2423846482550009 Accuracy on test set: 0.9314903846153846\n",
    "\n",
    "LR 0.01\n",
    "\n",
    "100%|███████████████████████████| 1687/1687 [00:00<00:00, 2785.66it/s]\n",
    "Train loss: 0.285981 | Train accuracy: 0.918179\n",
    "100%|█████████████████████████████| 187/187 [00:00<00:00, 6420.13it/s]\n",
    "Val loss:   0.233268 | Val accuracy:   0.934492\n",
    "100%|█████████████████████████████| 312/312 [00:00<00:00, 6183.60it/s]\n",
    "Loss on test set:0.2788655001294011 Accuracy on test set: 0.9206730769230769\n",
    "\n",
    "MOM 0.9\n",
    "\n",
    "100%|███████████████████████████| 1687/1687 [00:01<00:00, 1589.04it/s]\n",
    "Train loss: 0.449761 | Train accuracy: 0.884595\n",
    "100%|█████████████████████████████| 187/187 [00:00<00:00, 1666.74it/s]\n",
    "Val loss:   0.545651 | Val accuracy:   0.853443\n",
    "100%|█████████████████████████████| 312/312 [00:00<00:00, 2406.35it/s]\n",
    "Loss on test set:0.551689505803948 Accuracy on test set: 0.8470552884615384\n",
    "\n",
    "\n",
    "Leaky RELU\n",
    "\n",
    "100%|███████████████████████████| 1687/1687 [00:00<00:00, 2791.22it/s]\n",
    "Train loss: 0.224515 | Train accuracy: 0.935147\n",
    "100%|█████████████████████████████| 187/187 [00:00<00:00, 5918.66it/s]\n",
    "Val loss:   0.227615 | Val accuracy:   0.931985\n",
    "100%|█████████████████████████████| 312/312 [00:00<00:00, 5966.59it/s]\n",
    "Loss on test set:0.26892603975601304 Accuracy on test set: 0.9207732371794872\n",
    "\n"
   ]
  }
 ],
 "metadata": {
  "interpreter": {
   "hash": "6901038fa2fcd02ac3ace02f6bb6643ab81c1e9472821c23450f8affb24b877b"
  },
  "kernelspec": {
   "display_name": "Python 3.9.4 64-bit ('mitx': venv)",
   "name": "python3"
  },
  "language_info": {
   "codemirror_mode": {
    "name": "ipython",
    "version": 3
   },
   "file_extension": ".py",
   "mimetype": "text/x-python",
   "name": "python",
   "nbconvert_exporter": "python",
   "pygments_lexer": "ipython3",
   "version": "3.9.4"
  },
  "orig_nbformat": 4
 },
 "nbformat": 4,
 "nbformat_minor": 2
}
