{
 "cells": [
  {
   "cell_type": "markdown",
   "metadata": {},
   "source": [
    "# 22. Lecture 12. Convolutional Neural Networks"
   ]
  },
  {
   "cell_type": "markdown",
   "metadata": {},
   "source": [
    "## 12.1 Objectives"
   ]
  },
  {
   "cell_type": "markdown",
   "metadata": {},
   "source": [
    "Convolutional neural networks (CNNs)\n",
    "\n",
    "Objectives:\n",
    "* Know the differences between feed-forward and Convolutional neural networks (CNNs).\n",
    "* Implement the key parts in the CNNs, including **convolution**, **max pooling** units.\n",
    "* Determine the dimension of each channel in different layers with a given CNNs."
   ]
  },
  {
   "cell_type": "markdown",
   "metadata": {},
   "source": [
    "## 12.2 Convolutional Neural Networks"
   ]
  },
  {
   "cell_type": "markdown",
   "metadata": {},
   "source": [
    "Ojective: Image classification using NN\n",
    "\n",
    "Key parts of CNN\n",
    "* convolution\n",
    "* pooling\n",
    "\n",
    "### Limitations of FFNN\n",
    "1. Problem 1: The size of the network (number of weights too high)\n",
    "2. Problem 2: Learning would be too long. Examples are sensitive about the location (too many degree of freedom)\n",
    "\n",
    "Example:\n",
    "* For an 1000x1000px image\n",
    "* An input layer of 1000x1000 units (same size)\n",
    "* An hidden layer (1) of 1000x1000 units (same size)\n",
    "* Fully connected mapping of (1000x1000) x (1000x1000) = 10^12 weights"
   ]
  },
  {
   "cell_type": "markdown",
   "metadata": {},
   "source": [
    "### Method 1: Patch classifier/filter\n",
    "\n",
    "A small patch, with few weights\n",
    "\n",
    "Ex: 11x11 patch with 11x11 weights, giving 1 output\n",
    "\n",
    "inner product if patch dot the filter\n",
    "f = ReLU ( [] . [] )\n",
    "\n",
    "Return higher value when filter meet a location which is \"similar\"\n",
    "\n",
    "The weights are the same for all patches of image. the same set of weight.\n",
    "\n",
    "Algorithm:\n",
    "* move by x pixels (default 1)\n",
    "* x is called stride\n",
    "\n",
    "Exmaple of non-linearity:\n",
    "- ReLU\n",
    "- sigmoid\n",
    "- (shrinkage function)\n",
    "- ...  \n",
    "  \n",
    "\n",
    "Differences FFNN vs. CNN:\n",
    "1. local connectivity\n",
    "2. shared weights \n",
    "\n"
   ]
  },
  {
   "cell_type": "markdown",
   "metadata": {},
   "source": [
    "### Method 2: POOLING\n",
    "\n",
    "Compressing the convoluted image or set of features\n",
    "Using: a patch from image, a stride and a function, such as f = max{...}\n",
    "\n",
    "Pooling paramrters:\n",
    "* the dimension of the patch n x m\n",
    "* the stride s\n",
    "* the poolong function f\n",
    "\n",
    "Example of pooling:\n",
    "- Average Pooling\n",
    "- L1\n",
    "- L2\n",
    "- Max Pooling\n",
    "- Sum Pooling"
   ]
  },
  {
   "cell_type": "markdown",
   "metadata": {},
   "source": [
    "![covolution and pooling](img/A-schematic-diagram-of-convolution-and-max-pooling-layer-In-the-convolution-layer-a.png)\n",
    "![covolution and pooling](img/Schematic-representation-of-a-convolution-and-pooling-layer-in-a-CNN.png)"
   ]
  },
  {
   "cell_type": "markdown",
   "metadata": {},
   "source": [
    "### 12.2.+ How to calculate convolution with python?"
   ]
  },
  {
   "cell_type": "markdown",
   "metadata": {},
   "source": [
    "Using numpy: `convolve()`"
   ]
  },
  {
   "cell_type": "code",
   "execution_count": 7,
   "metadata": {},
   "outputs": [
    {
     "name": "stdout",
     "output_type": "stream",
     "text": [
      "[-1  0 -1  2 -1  1]\n",
      "[-1  0 -1  2 -1  1]\n",
      "[-1  0 -1  2 -1]\n",
      "[-1  0 -1  2 -1]\n",
      "[ 0 -1  2 -1]\n"
     ]
    }
   ],
   "source": [
    "import numpy as np \n",
    "x = [1, 1, 2, 0, 1]\n",
    "y = [-1, 1]\n",
    "\n",
    "print(np.convolve(x, y, mode ='full'))\n",
    "print(np.convolve(y, x, mode ='full'))\n",
    "print(np.convolve(x, y, mode ='same'))\n",
    "print(np.convolve(y, x, mode ='same'))\n",
    "print(np.convolve(x, y, mode ='valid'))"
   ]
  },
  {
   "cell_type": "code",
   "execution_count": 20,
   "metadata": {},
   "outputs": [
    {
     "name": "stdout",
     "output_type": "stream",
     "text": [
      "[-1  0 -1  2 -1  1]\n",
      "[[1. 1. 1. 1.]\n",
      " [1. 1. 1. 1.]\n",
      " [1. 1. 1. 1.]\n",
      " [1. 1. 1. 1.]]\n",
      "[[1 0]\n",
      " [0 1]]\n",
      "[[1. 1. 1. 1. 0.]\n",
      " [1. 2. 2. 2. 1.]\n",
      " [1. 2. 2. 2. 1.]\n",
      " [1. 2. 2. 2. 1.]\n",
      " [0. 1. 1. 1. 1.]]\n",
      "[[1. 1. 1. 1. 0.]\n",
      " [1. 2. 2. 2. 1.]\n",
      " [1. 2. 2. 2. 1.]\n",
      " [1. 2. 2. 2. 1.]\n",
      " [0. 1. 1. 1. 1.]]\n"
     ]
    }
   ],
   "source": [
    "from scipy import signal\n",
    "x = [1, 1, 2, 0, 1]\n",
    "y = [-1, 1]\n",
    "\n",
    "print(signal.convolve(x,y))\n",
    "\n",
    "x = np.ones(16).reshape(4,4)\n",
    "y = np.array([1,0,0,1]).reshape(2,2)\n",
    "print(x, y, sep=\"\\n\")\n",
    "\n",
    "print(signal.convolve(x,y, mode='full'))\n",
    "\n",
    "print(signal.convolve2d(x,y, boundary='fill'))"
   ]
  },
  {
   "cell_type": "code",
   "execution_count": 42,
   "metadata": {},
   "outputs": [
    {
     "name": "stdout",
     "output_type": "stream",
     "text": [
      "[-1, 0, 1]\n"
     ]
    },
    {
     "data": {
      "text/plain": [
       "array([-3,  2,  2,  2,  1])"
      ]
     },
     "execution_count": 42,
     "metadata": {},
     "output_type": "execute_result"
    }
   ],
   "source": [
    "f = [1,3,-1,1,-3]\n",
    "g = [1,0,-1]\n",
    "# g.reverse()\n",
    "# g_ = list(reversed(g))\n",
    "g_ = g[::-1]\n",
    "print(g_)\n",
    "# = g.reversed\n",
    "np.convolve(f,g_,mode='same')"
   ]
  },
  {
   "cell_type": "code",
   "execution_count": 49,
   "metadata": {},
   "outputs": [
    {
     "name": "stdout",
     "output_type": "stream",
     "text": [
      "[[1 2 1]\n",
      " [2 1 1]\n",
      " [1 1 1]] [[1.  0.5]\n",
      " [0.5 1. ]]\n",
      "[[1.  0.5]\n",
      " [0.5 1. ]]\n",
      "[[4. 4.]\n",
      " [4. 3.]]\n"
     ]
    },
    {
     "data": {
      "text/plain": [
       "15.0"
      ]
     },
     "execution_count": 49,
     "metadata": {},
     "output_type": "execute_result"
    }
   ],
   "source": [
    "f = np.array([1,2,1,2,1,1,1,1,1]).reshape(3,3)\n",
    "g_ = np.array([1,0.5,0.5,1]).reshape(2,2)\n",
    "print(f, g_)\n",
    "g = np.fliplr(np.flipud(g_))\n",
    "print(g)\n",
    "\n",
    "c = signal.convolve(f,g, mode='valid')\n",
    "print(c)\n",
    "\n",
    "c.sum()\n"
   ]
  },
  {
   "cell_type": "markdown",
   "metadata": {},
   "source": [
    "## 12.3 CNN (cont.)"
   ]
  },
  {
   "cell_type": "markdown",
   "metadata": {},
   "source": [
    "How to construct a CNN\n",
    "\n",
    "Layer 1:\n",
    "- Multiple filter-maps aka. KERNEL (to indentify some features)\n",
    "\n",
    "Layer 2:\n",
    "- Pooling (to reduce the size of the images)\n",
    "\n",
    "what are channels?\n",
    "\n",
    "CNN's are architectures that combine these 2 types of layers successively (in a variety of different ways)."
   ]
  },
  {
   "cell_type": "markdown",
   "metadata": {},
   "source": [
    "## 12.Extra"
   ]
  },
  {
   "cell_type": "markdown",
   "metadata": {},
   "source": [
    "Convolution vs. Cross-Correlation\n",
    "\n",
    "\n",
    "\n",
    "Conditions for image recognition\n",
    "\n",
    "* spatial locality\n",
    "* translation invariance\n",
    "\n",
    "Are CNN are invariant to:\n",
    "- translation, rotation and scaling ?\n",
    "- illumination variation\n",
    "- occlusion\n",
    "- scale\n",
    "- view point\n",
    "- deformation\n",
    "\n",
    "\n",
    "\n",
    "filters\n",
    "\n",
    "Image > n 2D Filters > tensor of n channels (*) tensor filter"
   ]
  },
  {
   "cell_type": "code",
   "execution_count": 52,
   "metadata": {},
   "outputs": [
    {
     "name": "stdout",
     "output_type": "stream",
     "text": [
      "[[1 0 2]\n",
      " [3 1 0]\n",
      " [0 0 4]]\n",
      "[[1 0]\n",
      " [0 1]]\n"
     ]
    }
   ],
   "source": [
    "I = np.array([1,0,2,3,1,0,0,0,4]).reshape(3,3)\n",
    "F = np.array([1,0,0,1]).reshape(2,2)\n",
    "\n",
    "print(I)\n",
    "print(F)"
   ]
  },
  {
   "cell_type": "code",
   "execution_count": 61,
   "metadata": {},
   "outputs": [
    {
     "ename": "RuntimeError",
     "evalue": "non-empty 3D or 4D (batch mode) tensor expected for input",
     "output_type": "error",
     "traceback": [
      "\u001b[0;31m---------------------------------------------------------------------------\u001b[0m",
      "\u001b[0;31mRuntimeError\u001b[0m                              Traceback (most recent call last)",
      "\u001b[0;32m/var/folders/_r/bt2dhpts16s5rltj1s1d3n_00000gn/T/ipykernel_4352/1727654776.py\u001b[0m in \u001b[0;36m<module>\u001b[0;34m\u001b[0m\n\u001b[1;32m      8\u001b[0m \u001b[0mpool1\u001b[0m \u001b[0;34m=\u001b[0m \u001b[0mtorch\u001b[0m\u001b[0;34m.\u001b[0m\u001b[0mnn\u001b[0m\u001b[0;34m.\u001b[0m\u001b[0mMaxPool2d\u001b[0m\u001b[0;34m(\u001b[0m\u001b[0;36m2\u001b[0m\u001b[0;34m,\u001b[0m \u001b[0mstride\u001b[0m\u001b[0;34m=\u001b[0m\u001b[0;36m1\u001b[0m\u001b[0;34m)\u001b[0m\u001b[0;34m\u001b[0m\u001b[0;34m\u001b[0m\u001b[0m\n\u001b[1;32m      9\u001b[0m \u001b[0;34m\u001b[0m\u001b[0m\n\u001b[0;32m---> 10\u001b[0;31m \u001b[0mpool1\u001b[0m\u001b[0;34m(\u001b[0m\u001b[0minput\u001b[0m\u001b[0;34m)\u001b[0m\u001b[0;34m\u001b[0m\u001b[0;34m\u001b[0m\u001b[0m\n\u001b[0m\u001b[1;32m     11\u001b[0m \u001b[0;34m\u001b[0m\u001b[0m\n\u001b[1;32m     12\u001b[0m \u001b[0;34m\u001b[0m\u001b[0m\n",
      "\u001b[0;32m~/code/MITx-6.86x/mitx/lib/python3.9/site-packages/torch/nn/modules/module.py\u001b[0m in \u001b[0;36m_call_impl\u001b[0;34m(self, *input, **kwargs)\u001b[0m\n\u001b[1;32m   1049\u001b[0m         if not (self._backward_hooks or self._forward_hooks or self._forward_pre_hooks or _global_backward_hooks\n\u001b[1;32m   1050\u001b[0m                 or _global_forward_hooks or _global_forward_pre_hooks):\n\u001b[0;32m-> 1051\u001b[0;31m             \u001b[0;32mreturn\u001b[0m \u001b[0mforward_call\u001b[0m\u001b[0;34m(\u001b[0m\u001b[0;34m*\u001b[0m\u001b[0minput\u001b[0m\u001b[0;34m,\u001b[0m \u001b[0;34m**\u001b[0m\u001b[0mkwargs\u001b[0m\u001b[0;34m)\u001b[0m\u001b[0;34m\u001b[0m\u001b[0;34m\u001b[0m\u001b[0m\n\u001b[0m\u001b[1;32m   1052\u001b[0m         \u001b[0;31m# Do not call functions when jit is used\u001b[0m\u001b[0;34m\u001b[0m\u001b[0;34m\u001b[0m\u001b[0;34m\u001b[0m\u001b[0m\n\u001b[1;32m   1053\u001b[0m         \u001b[0mfull_backward_hooks\u001b[0m\u001b[0;34m,\u001b[0m \u001b[0mnon_full_backward_hooks\u001b[0m \u001b[0;34m=\u001b[0m \u001b[0;34m[\u001b[0m\u001b[0;34m]\u001b[0m\u001b[0;34m,\u001b[0m \u001b[0;34m[\u001b[0m\u001b[0;34m]\u001b[0m\u001b[0;34m\u001b[0m\u001b[0;34m\u001b[0m\u001b[0m\n",
      "\u001b[0;32m~/code/MITx-6.86x/mitx/lib/python3.9/site-packages/torch/nn/modules/pooling.py\u001b[0m in \u001b[0;36mforward\u001b[0;34m(self, input)\u001b[0m\n\u001b[1;32m    160\u001b[0m \u001b[0;34m\u001b[0m\u001b[0m\n\u001b[1;32m    161\u001b[0m     \u001b[0;32mdef\u001b[0m \u001b[0mforward\u001b[0m\u001b[0;34m(\u001b[0m\u001b[0mself\u001b[0m\u001b[0;34m,\u001b[0m \u001b[0minput\u001b[0m\u001b[0;34m:\u001b[0m \u001b[0mTensor\u001b[0m\u001b[0;34m)\u001b[0m \u001b[0;34m->\u001b[0m \u001b[0mTensor\u001b[0m\u001b[0;34m:\u001b[0m\u001b[0;34m\u001b[0m\u001b[0;34m\u001b[0m\u001b[0m\n\u001b[0;32m--> 162\u001b[0;31m         return F.max_pool2d(input, self.kernel_size, self.stride,\n\u001b[0m\u001b[1;32m    163\u001b[0m                             \u001b[0mself\u001b[0m\u001b[0;34m.\u001b[0m\u001b[0mpadding\u001b[0m\u001b[0;34m,\u001b[0m \u001b[0mself\u001b[0m\u001b[0;34m.\u001b[0m\u001b[0mdilation\u001b[0m\u001b[0;34m,\u001b[0m \u001b[0mself\u001b[0m\u001b[0;34m.\u001b[0m\u001b[0mceil_mode\u001b[0m\u001b[0;34m,\u001b[0m\u001b[0;34m\u001b[0m\u001b[0;34m\u001b[0m\u001b[0m\n\u001b[1;32m    164\u001b[0m                             self.return_indices)\n",
      "\u001b[0;32m~/code/MITx-6.86x/mitx/lib/python3.9/site-packages/torch/_jit_internal.py\u001b[0m in \u001b[0;36mfn\u001b[0;34m(*args, **kwargs)\u001b[0m\n\u001b[1;32m    403\u001b[0m             \u001b[0;32mreturn\u001b[0m \u001b[0mif_true\u001b[0m\u001b[0;34m(\u001b[0m\u001b[0;34m*\u001b[0m\u001b[0margs\u001b[0m\u001b[0;34m,\u001b[0m \u001b[0;34m**\u001b[0m\u001b[0mkwargs\u001b[0m\u001b[0;34m)\u001b[0m\u001b[0;34m\u001b[0m\u001b[0;34m\u001b[0m\u001b[0m\n\u001b[1;32m    404\u001b[0m         \u001b[0;32melse\u001b[0m\u001b[0;34m:\u001b[0m\u001b[0;34m\u001b[0m\u001b[0;34m\u001b[0m\u001b[0m\n\u001b[0;32m--> 405\u001b[0;31m             \u001b[0;32mreturn\u001b[0m \u001b[0mif_false\u001b[0m\u001b[0;34m(\u001b[0m\u001b[0;34m*\u001b[0m\u001b[0margs\u001b[0m\u001b[0;34m,\u001b[0m \u001b[0;34m**\u001b[0m\u001b[0mkwargs\u001b[0m\u001b[0;34m)\u001b[0m\u001b[0;34m\u001b[0m\u001b[0;34m\u001b[0m\u001b[0m\n\u001b[0m\u001b[1;32m    406\u001b[0m \u001b[0;34m\u001b[0m\u001b[0m\n\u001b[1;32m    407\u001b[0m     \u001b[0;32mif\u001b[0m \u001b[0mif_true\u001b[0m\u001b[0;34m.\u001b[0m\u001b[0m__doc__\u001b[0m \u001b[0;32mis\u001b[0m \u001b[0;32mNone\u001b[0m \u001b[0;32mand\u001b[0m \u001b[0mif_false\u001b[0m\u001b[0;34m.\u001b[0m\u001b[0m__doc__\u001b[0m \u001b[0;32mis\u001b[0m \u001b[0;32mnot\u001b[0m \u001b[0;32mNone\u001b[0m\u001b[0;34m:\u001b[0m\u001b[0;34m\u001b[0m\u001b[0;34m\u001b[0m\u001b[0m\n",
      "\u001b[0;32m~/code/MITx-6.86x/mitx/lib/python3.9/site-packages/torch/nn/functional.py\u001b[0m in \u001b[0;36m_max_pool2d\u001b[0;34m(input, kernel_size, stride, padding, dilation, ceil_mode, return_indices)\u001b[0m\n\u001b[1;32m    716\u001b[0m     \u001b[0;32mif\u001b[0m \u001b[0mstride\u001b[0m \u001b[0;32mis\u001b[0m \u001b[0;32mNone\u001b[0m\u001b[0;34m:\u001b[0m\u001b[0;34m\u001b[0m\u001b[0;34m\u001b[0m\u001b[0m\n\u001b[1;32m    717\u001b[0m         \u001b[0mstride\u001b[0m \u001b[0;34m=\u001b[0m \u001b[0mtorch\u001b[0m\u001b[0;34m.\u001b[0m\u001b[0mjit\u001b[0m\u001b[0;34m.\u001b[0m\u001b[0mannotate\u001b[0m\u001b[0;34m(\u001b[0m\u001b[0mList\u001b[0m\u001b[0;34m[\u001b[0m\u001b[0mint\u001b[0m\u001b[0;34m]\u001b[0m\u001b[0;34m,\u001b[0m \u001b[0;34m[\u001b[0m\u001b[0;34m]\u001b[0m\u001b[0;34m)\u001b[0m\u001b[0;34m\u001b[0m\u001b[0;34m\u001b[0m\u001b[0m\n\u001b[0;32m--> 718\u001b[0;31m     \u001b[0;32mreturn\u001b[0m \u001b[0mtorch\u001b[0m\u001b[0;34m.\u001b[0m\u001b[0mmax_pool2d\u001b[0m\u001b[0;34m(\u001b[0m\u001b[0minput\u001b[0m\u001b[0;34m,\u001b[0m \u001b[0mkernel_size\u001b[0m\u001b[0;34m,\u001b[0m \u001b[0mstride\u001b[0m\u001b[0;34m,\u001b[0m \u001b[0mpadding\u001b[0m\u001b[0;34m,\u001b[0m \u001b[0mdilation\u001b[0m\u001b[0;34m,\u001b[0m \u001b[0mceil_mode\u001b[0m\u001b[0;34m)\u001b[0m\u001b[0;34m\u001b[0m\u001b[0;34m\u001b[0m\u001b[0m\n\u001b[0m\u001b[1;32m    719\u001b[0m \u001b[0;34m\u001b[0m\u001b[0m\n\u001b[1;32m    720\u001b[0m \u001b[0;34m\u001b[0m\u001b[0m\n",
      "\u001b[0;31mRuntimeError\u001b[0m: non-empty 3D or 4D (batch mode) tensor expected for input"
     ]
    }
   ],
   "source": [
    "import torch\n",
    "import torch.nn.functional as F\n",
    "\n",
    "input = torch.from_numpy(I)\n",
    "\n",
    "NN = \n",
    "\n",
    "conv1 = torch.nn.Conv2d(in_channels=1, out_channels=3, kernel_size=(3, 3), padding=1),\n",
    "conv1_f = torch.nn.ReLU(),\n",
    "pool1 = torch.nn.MaxPool2d(2, stride=1)\n",
    "\n",
    "pool1(input)\n",
    "\n",
    "class NeuralNetwork(nn.Module):\n",
    "    def __init__(self):\n",
    "        super(NeuralNetwork, self).__init__()\n",
    "        self.flatten = nn.Flatten()\n",
    "        self.linear_relu_stack = nn.Sequential(\n",
    "            nn.Linear(28*28, 512),\n",
    "            nn.ReLU(),\n",
    "            nn.Linear(512, 512),\n",
    "            nn.ReLU(),\n",
    "            nn.Linear(512, 10),\n",
    "        )\n",
    "\n",
    "    def forward(self, x):\n",
    "        # Pass data through conv1\n",
    "        # x = conv1(x)\n",
    "        # Use the rectified-linear activation function over x\n",
    "        x = F.relu(x)\n",
    "\n",
    "        x = F.max_pool2d(x)\n",
    "\n",
    "\n",
    "        # Run max pooling over x\n",
    "        x = F.max_pool2d(x, 2)\n",
    "        \n",
    "        return x\n",
    "\n",
    "NN.forward(input)"
   ]
  }
 ],
 "metadata": {
  "interpreter": {
   "hash": "6901038fa2fcd02ac3ace02f6bb6643ab81c1e9472821c23450f8affb24b877b"
  },
  "kernelspec": {
   "display_name": "Python 3.9.4 64-bit ('mitx': venv)",
   "name": "python3"
  },
  "language_info": {
   "codemirror_mode": {
    "name": "ipython",
    "version": 3
   },
   "file_extension": ".py",
   "mimetype": "text/x-python",
   "name": "python",
   "nbconvert_exporter": "python",
   "pygments_lexer": "ipython3",
   "version": "3.9.4"
  },
  "orig_nbformat": 4
 },
 "nbformat": 4,
 "nbformat_minor": 2
}
