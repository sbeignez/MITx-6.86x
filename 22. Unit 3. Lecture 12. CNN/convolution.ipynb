{
 "cells": [
  {
   "cell_type": "markdown",
   "metadata": {},
   "source": [
    "# 22. Lecture 12. Convolutional Neural Networks"
   ]
  },
  {
   "cell_type": "markdown",
   "metadata": {},
   "source": [
    "## 12.1 Objectives"
   ]
  },
  {
   "cell_type": "markdown",
   "metadata": {},
   "source": [
    "Convolutional neural networks (CNNs)\n",
    "\n",
    "Objectives:\n",
    "* Know the differences between feed-forward and Convolutional neural networks (CNNs).\n",
    "* Implement the key parts in the CNNs, including **convolution**, **max pooling** units.\n",
    "* Determine the dimension of each channel in different layers with a given CNNs."
   ]
  },
  {
   "cell_type": "markdown",
   "metadata": {},
   "source": [
    "## 12.2 Convolutional Neural Networks"
   ]
  },
  {
   "cell_type": "markdown",
   "metadata": {},
   "source": [
    "## 12.Extra"
   ]
  },
  {
   "cell_type": "markdown",
   "metadata": {},
   "source": [
    "Conditions for image recognition\n",
    "\n",
    "* spatial locality\n",
    "* translation invariance\n",
    "\n",
    "Are CNN are invariant to:\n",
    "- translation, rotation and scaling ?\n",
    "- illumination variation\n",
    "- occlusion\n",
    "- scale\n",
    "- view point\n",
    "- deformation\n",
    "\n",
    "\n",
    "\n",
    "filters\n",
    "\n",
    "Image > n 2D Filters > tensor of n channels (*) tensor filter"
   ]
  }
 ],
 "metadata": {
  "interpreter": {
   "hash": "6901038fa2fcd02ac3ace02f6bb6643ab81c1e9472821c23450f8affb24b877b"
  },
  "kernelspec": {
   "display_name": "Python 3.9.4 64-bit ('mitx': venv)",
   "name": "python3"
  },
  "language_info": {
   "codemirror_mode": {
    "name": "ipython",
    "version": 3
   },
   "file_extension": ".py",
   "mimetype": "text/x-python",
   "name": "python",
   "nbconvert_exporter": "python",
   "pygments_lexer": "ipython3",
   "version": "3.9.4"
  },
  "orig_nbformat": 4
 },
 "nbformat": 4,
 "nbformat_minor": 2
}
