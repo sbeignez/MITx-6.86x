{
 "cells": [
  {
   "cell_type": "code",
   "execution_count": null,
   "metadata": {},
   "outputs": [],
   "source": [
    "# Convolution Neural Network"
   ]
  },
  {
   "cell_type": "markdown",
   "metadata": {},
   "source": []
  },
  {
   "cell_type": "markdown",
   "metadata": {},
   "source": [
    "Conditions for image recognition\n",
    "\n",
    "* spatial locality\n",
    "* translation invariance\n",
    "\n",
    "Are CNN are invariant to:\n",
    "- translation, rotation and scaling ?\n",
    "- illumination variation\n",
    "- occlusion\n",
    "- scale\n",
    "- view point\n",
    "- deformation\n",
    "\n",
    "\n",
    "\n",
    "filters\n",
    "\n",
    "Image > n 2D Filters > tensor of n channels (*) tensor filter"
   ]
  }
 ],
 "metadata": {
  "interpreter": {
   "hash": "6901038fa2fcd02ac3ace02f6bb6643ab81c1e9472821c23450f8affb24b877b"
  },
  "kernelspec": {
   "display_name": "Python 3.9.4 64-bit ('mitx': venv)",
   "name": "python3"
  },
  "language_info": {
   "name": "python",
   "version": "3.9.4"
  },
  "orig_nbformat": 4
 },
 "nbformat": 4,
 "nbformat_minor": 2
}
