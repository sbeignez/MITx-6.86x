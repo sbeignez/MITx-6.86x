{
 "cells": [
  {
   "cell_type": "markdown",
   "metadata": {},
   "source": [
    "# MIT: Machine Learning 6.036, Lecture 10: Reinforcement learning (Fall 2020)"
   ]
  },
  {
   "cell_type": "markdown",
   "metadata": {},
   "source": [
    "https://www.youtube.com/watch?v=Ir93m9OmOHo&t=1427s&ab_channel=TamaraBroderick"
   ]
  },
  {
   "cell_type": "markdown",
   "metadata": {},
   "source": [
    "MDP\n",
    "\n",
    "Trade-off\n",
    "* Exploration\n",
    "* vs. Explotation\n",
    "\n",
    "Strategy:\n",
    "$\\epsilon$ -greedy\n"
   ]
  },
  {
   "cell_type": "markdown",
   "metadata": {},
   "source": [
    "https://tamarabroderick.com/ml.html\n",
    "\n",
    "Lecture 1: Basics (2020 / 09 / 01) [youtube] [slides pdf]  \n",
    "Lecture 2: Perceptrons (2020 / 09 / 08) [youtube] [slides pdf]  \n",
    "Lecture 3: Features (2020 / 09 / 15) [youtube] [slides pdf]  \n",
    "Lecture 4: Logistic regression, a.k.a. linear logistic classification (2020 / 09 / 22) [youtube] [slides pdf]  \n",
    "Lecture 5: Regression (2020 / 09 / 29) [youtube] [slides pdf]  \n",
    "Lecture 6: Neural networks (2020 / 10 / 06) [youtube] [slides pdf]  \n",
    "Lecture 7: There was a holiday this week, and the lecture numbering matches the week of the course. So there is no Lecture 7.\n",
    "Lecture 8: Convolutional neural networks (2020 / 10 / 20) [youtube] [slides pdf]  \n",
    "Lecture 9: State machines and Markov decision processes (2020 / 10 / 27) [youtube] [slides pdf]  \n",
    "Lecture 10: Reinforcement learning (2020 / 11 / 03) [youtube] [slides pdf]  \n",
    "Lecture 11: Recurrent neural networks (2020 / 11 / 10) [youtube] [slides pdf]  \n",
    "Lecture 12: Decision trees and random forests (2020 / 11 / 17) [youtube] [slides pdf]  \n",
    "Lecture 13: Clustering (2020 / 12 / 01) [youtube] [slides pdf]  \n",
    "Lecture 14: Guest lecture (David Sontag) (2020 / 12 / 08) [youtube]"
   ]
  },
  {
   "cell_type": "markdown",
   "metadata": {},
   "source": [
    "https://www.youtube.com/watch?v=zR11FLZ-O9M&ab_channel=LexFridman\n",
    "MIT 6.S091: Introduction to Deep Reinforcement Learning (Deep RL)\n",
    "\n"
   ]
  }
 ],
 "metadata": {
  "language_info": {
   "name": "python"
  },
  "orig_nbformat": 4
 },
 "nbformat": 4,
 "nbformat_minor": 2
}
