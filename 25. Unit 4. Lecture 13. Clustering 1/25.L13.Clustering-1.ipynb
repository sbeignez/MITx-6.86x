{
 "cells": [
  {
   "cell_type": "markdown",
   "metadata": {},
   "source": [
    "# 25. Unit 4"
   ]
  },
  {
   "cell_type": "markdown",
   "metadata": {},
   "source": [
    "## 25.1. Unit 4: Unsupervised Learning"
   ]
  },
  {
   "cell_type": "markdown",
   "metadata": {},
   "source": [
    "Unit 4: Unsupervised learning\n",
    "\n",
    "Find structure in the data\n",
    "\n",
    "Ex: Google news\n",
    "\n",
    "* Generative models\n",
    "* Multinomial models\n",
    "* Guassian and Mixture Gaussian\n",
    "* EM expectation–maximization algorithm"
   ]
  },
  {
   "cell_type": "markdown",
   "metadata": {},
   "source": [
    "# 25. Lecture 13. Clustering (1/2)"
   ]
  },
  {
   "cell_type": "markdown",
   "metadata": {},
   "source": [
    "## 25.2. Lecture 13: Objectives"
   ]
  },
  {
   "cell_type": "markdown",
   "metadata": {},
   "source": [
    "* Understand the definition of clustering\n",
    "* Understand clustering cost with different similarity measures\n",
    "* Understand the K-means algorithm\n",
    "\n",
    "Lesson plan: \n",
    "1. Clustering definition\n",
    "   - Exmaples\n",
    "2. Clustering cost\n",
    "   - Similarity meaning\n",
    "3. K-mean algorithm"
   ]
  },
  {
   "cell_type": "markdown",
   "metadata": {},
   "source": [
    "## 25.3. Introduction to clustering"
   ]
  },
  {
   "cell_type": "markdown",
   "metadata": {},
   "source": [
    "Automatically predict-find some meaningful structure in the data set\n",
    "Have learning data set, but don't have labels\n",
    "\n",
    "There are many possible way to group the points. Which one is better: similartity measures"
   ]
  },
  {
   "cell_type": "markdown",
   "metadata": {},
   "source": [
    "#### Applications\n",
    "\n",
    "Access the information and improve access to information\n",
    "Ex: Google news\n",
    "Categories and Stories aggregated \n",
    "\n",
    "Bag of words (representation), then cosine similarty (compare): Are these 2 articles similar?"
   ]
  },
  {
   "cell_type": "markdown",
   "metadata": {},
   "source": [
    "#### Types of Machine Learning problems\n",
    "\n",
    "Type | Supervised? | Examples\n",
    "--- | --- | ---\n",
    "Classification | Supervised | Classify news articles into pre-defined categories. Categories are dicreet values. Use data with labels, to train the model.\n",
    "Clustering | Un-Supervised | Group articles into K sets of similar articles (the number K is a parameter, but the categories are not). Training set is provided but not labels or no categories.\n",
    "Regression | Supervised | Predict the expected value of a stock, based on previous values (training data). Value is continuous."
   ]
  },
  {
   "cell_type": "markdown",
   "metadata": {},
   "source": [
    "## 25.4. Another Clustering Example: Image Quantization"
   ]
  },
  {
   "cell_type": "markdown",
   "metadata": {},
   "source": [
    "#### Image Quantization\n",
    "\n",
    "> definition: Compression technique, Color quantization reduces the number of colors used in an image\n",
    "https://en.wikipedia.org/wiki/Quantization_(image_processing)\n",
    "\n",
    "Le'ts assume an image of size 1024 pixels square, in color, coded in rgb with each channel in 8 bits\n",
    "3 colors, rgb, 8 bits x 3 = 24 bits  \n",
    "$ 1024 \\times 1024 \\times 24 bits = 3M $  \n",
    "\n",
    "![full](img/images_full.png)\n",
    "\n",
    "Notes (from Posts):\n",
    "*  Each pixel is described by a red color, blue color, and green color. Each color takes 8 \"slot\" to be described (each slot is either a 0 or a 1, 8 slots can give a number between 0 and 255 which is usual for colors). Since we have 3 colors each represented by 8 slots, that's #*8=24 slots per pixel.\n",
    "* 8 bits make a byte. Therefore, to convert from bits to bytes, you divide by 8. \n",
    "  * $ 1024*1024*24 = 25,265,824 = 25$ Mbits, and $25,265,824/8 = 3,145,728$ bytes = $3$ MBytes"
   ]
  },
  {
   "cell_type": "markdown",
   "metadata": {},
   "source": [
    "Compressed by limiting the number of colors to 32.  \n",
    "So need $2^5$ colors => 5 bits\n",
    "\n",
    "$1024 \\times 1024 \\times 5 + 32 \\times 24 = 640 Kb $\n",
    "\n",
    "![full](img/images_k=2.png)"
   ]
  },
  {
   "cell_type": "markdown",
   "metadata": {},
   "source": [
    "k = 3 | k = 3\n",
    "--- | --- \n",
    "![full](img/images_k=3.png) | ![full](img/images_k=3b.png)\n",
    "(random colors) | (representative colors, if using the cluster means algorithm)   \n",
    "\n",
    "and \n",
    "\n",
    "k = 5 | k = 5\n",
    "--- | --- \n",
    "![full](img/images_k=5.png) | ![full](img/images_k=5b.png)\n",
    "\n",
    "Notes:\n",
    "* https://townsean.github.io/canvas-pixel-color-counter/"
   ]
  },
  {
   "cell_type": "markdown",
   "metadata": {},
   "source": [
    "## 25.5. Clustering Definition"
   ]
  },
  {
   "cell_type": "markdown",
   "metadata": {},
   "source": [
    "#### (1) We can view Clustering as: Partitioning\n",
    "\n",
    "Input:\n",
    "* $S$, a set of feature vectors $ S_n = \\{ X^{(i)} | i = 1, ..,n \\} $\n",
    "* $K$, the number of clusters\n",
    "\n",
    "Output:\n",
    "* $C$, a partition of indices $\\{1,...,n\\}$ into K sets, a set of partitions: C_1, .., C_k. Each partition records the indexes of the elements that belongs to that cluster.\n",
    "  * Union $ \\cup C_j = {1,..,n} $ (collectively exhaustive)\n",
    "  * Intersection: $ C_i \\cap C_j = \\emptyset $ for any $ i \\ne j$ in $ \\{1,..,k \\}$ (mutually exclusive)\n",
    "  * \"Hard clustering\"\n",
    "\n",
    "Note:\n",
    "* Remember that classification takes the training set $ S_n = \\{ (x^{(i)},y^{(i)}) | .. \\}$, in which the $y$'s are the labels. In contrast to clustering, which has no labels.\n",
    "* \n"
   ]
  },
  {
   "cell_type": "markdown",
   "metadata": {},
   "source": [
    "\n",
    "\n",
    "#### (2) We can view Clustering as: in term as their representatives\n",
    "\n",
    "Representatives: \"will be vectors which will represent every single partitioning\".\n",
    "\n",
    "EX1: in google news, we can think that the cluster is actually the stories that I selected to represent this particular set of news articles.  \n",
    "EX2: Or in the case of image quantization, you can think that the representative would be the color that I selected to represent all these pixels that got collapsed into a single color.   \n",
    "\n",
    "The 2 views are connected.\n",
    "Representative vs. Constituent\n",
    "\n"
   ]
  },
  {
   "cell_type": "markdown",
   "metadata": {},
   "source": [
    "## 25.6. Similarity Measures-Cost functions"
   ]
  },
  {
   "cell_type": "markdown",
   "metadata": {},
   "source": [
    "It is possible to have multiple clustering results given the same set of feature vectors:\n",
    "\n",
    "![img](img/images_lec12_3cluster_1.svg) OR ![img](img/images_lec12_3cluster_2.svg)\n",
    "\n",
    "How to know which clustering is better? How to define the clusterign costs? \n",
    "\n",
    "1. Define a Cost function $ f(C) \\to \\R $\n",
    "2. Miminize $f(C)$ using an optimization algorithm\n",
    "  \n",
    "For (1), there are many way to define the cost of a partitioning.\n",
    "\n",
    "Properties for $f$:\n",
    "* Linearility?\n",
    "  * $$ cost(C_i,..,C_k) = \\sum_{i=1}^n cost (C_i) $$\n",
    "\n",
    "Then the cost function should reflect how homegenious, how consistent are all the points in the cluster.\n",
    "\n",
    "Type of cost functions:\n",
    "\n",
    "* OR Considering the constituents\n",
    "  * Option 1: The diameter (how far are the most remote points of the cluster)\n",
    "  * Option 2: The average distance between all the points  \n",
    "  \n",
    "  \n",
    "* OR Consdidering the representatives\n",
    "  * ..\n"
   ]
  },
  {
   "cell_type": "markdown",
   "metadata": {},
   "source": [
    "Note:\n",
    "* Euclidean distance\n",
    "* Cosine distance = $ cos(\\theta) = {A \\cdot B \\over ||A|| ||B||} $"
   ]
  },
  {
   "cell_type": "markdown",
   "metadata": {},
   "source": [
    "## 25.7. The K-Means Algorithm: The Big Picture"
   ]
  },
  {
   "cell_type": "markdown",
   "metadata": {},
   "source": [
    "## 25.8. The K-Means Algorithm: The Specifics"
   ]
  },
  {
   "cell_type": "markdown",
   "metadata": {},
   "source": []
  }
 ],
 "metadata": {
  "interpreter": {
   "hash": "6901038fa2fcd02ac3ace02f6bb6643ab81c1e9472821c23450f8affb24b877b"
  },
  "kernelspec": {
   "display_name": "Python 3.9.4 64-bit ('mitx': venv)",
   "language": "python",
   "name": "python3"
  },
  "language_info": {
   "codemirror_mode": {
    "name": "ipython",
    "version": 3
   },
   "file_extension": ".py",
   "mimetype": "text/x-python",
   "name": "python",
   "nbconvert_exporter": "python",
   "pygments_lexer": "ipython3",
   "version": "3.9.4"
  },
  "orig_nbformat": 4
 },
 "nbformat": 4,
 "nbformat_minor": 2
}
