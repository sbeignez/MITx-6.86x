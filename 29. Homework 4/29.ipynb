{
 "cells": [
  {
   "cell_type": "markdown",
   "metadata": {},
   "source": [
    "# 29. Homework 4\n",
    "\n",
    "Calculations and answers in: /sbeignez/MITx-6.86x-private repo.  \n",
    "Key take-aways:"
   ]
  },
  {
   "cell_type": "markdown",
   "metadata": {},
   "source": [
    "## 29.1. K-means and K-medoids\n"
   ]
  },
  {
   "cell_type": "markdown",
   "metadata": {},
   "source": [
    "Assume we have a 2D dataset consisting of (), (), (), (). We wish to do k-means and k-medoids clustering with $k=2$. We initialize the cluster centers with (), ().\n",
    "\n",
    "For this small dataset, in choosing between two equally valid exemplars for a cluster in k-medoids, choose them with priority in the order given above (i.e. all other things being equal, you would choose  as a center over ).\n",
    "\n",
    "For the following scenarios, give the clusters and cluster centers after the algorithm converges. Enter the coordinate of each cluster center as a square-bracketed list (e.g. [0, 0]); enter each cluster's members in a similar format, separated by semicolons (e.g. [1, 2]; [3, 4])."
   ]
  },
  {
   "cell_type": "code",
   "execution_count": 6,
   "metadata": {},
   "outputs": [
    {
     "data": {
      "image/png": "[encoded data removed]",
      "text/plain": [
       "<Figure size 432x288 with 1 Axes>"
      ]
     },
     "metadata": {
      "needs_background": "light"
     },
     "output_type": "display_data"
    }
   ],
   "source": [
    "import numpy as np\n",
    "from matplotlib import pyplot as plt\n",
    "\n",
    "P = [\n",
    "    [0, -6],\n",
    "    [4, 4],\n",
    "    [0, 0],\n",
    "    [-5, 2],\n",
    "]\n",
    "for p in P:\n",
    "    x , y = p\n",
    "    plt.plot(x, y, 'bo')\n",
    "    plt.text(x +0.2, y + 0.2 , p, fontsize=12)\n",
    "\n",
    "plt.scatter(x,y)\n",
    "plt.show()"
   ]
  },
  {
   "cell_type": "markdown",
   "metadata": {},
   "source": [
    "#### 29.1.a Clustering 1\n",
    "K-medoids algorithm with $l_1$ norm.\n",
    "\n",
    "#### 29.1.a Clustering 2\n",
    "K-medoids algorithm with $l_2$  norm.\n",
    "\n",
    "#### 29.1.a Clustering 3\n",
    "\n",
    "For K-means algorithm with $l_1$ norm, you need to use median instead of mean when calculating the centroid."
   ]
  },
  {
   "cell_type": "markdown",
   "metadata": {},
   "source": [
    "\n",
    "Notes:\n",
    "* $l_1$ is the Manhatten norm and $l_2$ is Euclidean norm. Cf. https://en.wikipedia.org/wiki/Norm_%28mathematics%29\n"
   ]
  },
  {
   "cell_type": "markdown",
   "metadata": {},
   "source": [
    "## 29.2. Maximum Likelihood Estimation"
   ]
  },
  {
   "cell_type": "markdown",
   "metadata": {},
   "source": [
    "#### 29.2.a Unigram Model\n",
    "\n",
    "A B A B B C A B A A B C A C\n",
    "\n",
    "Count(A) = 6  \n",
    "Count(B) = 5  \n",
    "Count(C) = 3  \n"
   ]
  },
  {
   "cell_type": "markdown",
   "metadata": {},
   "source": [
    "#### 29.2.b Bigram Model"
   ]
  },
  {
   "cell_type": "markdown",
   "metadata": {},
   "source": [
    "Notes (form comments)\n",
    "\n",
    "* in bi-gram model, the sequence of word in count(w1,w2) matters. count(w1,w2) != count(w2,w1).  \n",
    "  Well, if you think about the English language for example, to count the number of times you see 'th' ('t' followed by 'h') is not the same as to count the number of times you see 'ht'.\n",
    "* http://lintool.github.io/UMD-courses/CMSC723-2009-Fall/session9-slides.pdf\n",
    "* p(w|null) means probability of w being the first word.\n",
    "* Uniform means, there is equal opportunity that first word is A, B, or C.\n",
    "\n",
    "\n",
    "* https://web.stanford.edu/~jurafsky/slp3/3.pdf "
   ]
  },
  {
   "cell_type": "markdown",
   "metadata": {},
   "source": [
    "## 29.3. EM Algorithm"
   ]
  },
  {
   "cell_type": "markdown",
   "metadata": {},
   "source": [
    "Consider the following mixture of two Gaussians:\n",
    "\n",
    "\n",
    " \n",
    "This mixture has parameters . They correspond to the mixing proportions, means, and variances of each Gaussian. We initialize  as .\n",
    "\n",
    "We have a dataset  with the following samples of : , , , , .\n",
    "\n",
    "We want to set our parameters  such that the data log-likelihood  is maximized:\n",
    "\n",
    "\n",
    " \n",
    "Recall that we can do this with the EM algorithm. The algorithm optimizes a lower bound on the log-likelihood, thus iteratively pushing the data likelihood upwards. The iterative algorithm is specified by two steps applied successively:\n",
    "\n",
    "E-step: infer component assignments from current  (complete the data) \n",
    "\n",
    "\n",
    " \n",
    "M-step: maximize the expected log-likelihood\n",
    "\n",
    "\n",
    " \n",
    "with respect to  while keeping  fixed.\n",
    "\n",
    "To see why this optimizes a lower bound, consider the following inequality:\n",
    "\n",
    " \t\t\t \t \n",
    " \t \t\t \t \n",
    " \t \t\t \t \n",
    " \t \t\t \t \n",
    " \t \t\t \t \n",
    "where the inequality comes from Jensen's inequality . EM makes this bound tight for the current setting of  by setting  to be .\n",
    "\n",
    "Note: If you have taken 6.431x Probability–The Science of Uncertainty, you could review the video in Unit 8: Limit Theorems and Classical Statistics, Additional Theoretical Material, 2. Jensen's Inequality.\n"
   ]
  },
  {
   "cell_type": "markdown",
   "metadata": {},
   "source": [
    "#### 29.3.a Likelihood Function"
   ]
  },
  {
   "cell_type": "markdown",
   "metadata": {},
   "source": [
    "\n",
    "\n",
    "What is the log-likelihood of the data $l(D,\\theta)$ given the initial setting of $\\theta$?  \n",
    "\n",
    "*Please round to the nearest tenth.*  \n",
    "*Note: You will want to write a script to calculate this, using the natural log (np.log) and np.float64 data types.* \n",
    "\n",
    "\n"
   ]
  },
  {
   "cell_type": "markdown",
   "metadata": {},
   "source": [
    "#### 29.3.b E-Step"
   ]
  },
  {
   "cell_type": "markdown",
   "metadata": {},
   "source": [
    "\n",
    "What is the formula for $p(y=k|x,\\theta)$? Write in terms of $\\pi_k, \\pi_1, , , ,$ and  (where $N_k = N(..)$)."
   ]
  },
  {
   "cell_type": "markdown",
   "metadata": {},
   "source": []
  }
 ],
 "metadata": {
  "interpreter": {
   "hash": "6901038fa2fcd02ac3ace02f6bb6643ab81c1e9472821c23450f8affb24b877b"
  },
  "kernelspec": {
   "display_name": "Python 3.9.4 64-bit ('mitx': venv)",
   "language": "python",
   "name": "python3"
  },
  "language_info": {
   "codemirror_mode": {
    "name": "ipython",
    "version": 3
   },
   "file_extension": ".py",
   "mimetype": "text/x-python",
   "name": "python",
   "nbconvert_exporter": "python",
   "pygments_lexer": "ipython3",
   "version": "3.9.4"
  },
  "orig_nbformat": 4
 },
 "nbformat": 4,
 "nbformat_minor": 2
}
