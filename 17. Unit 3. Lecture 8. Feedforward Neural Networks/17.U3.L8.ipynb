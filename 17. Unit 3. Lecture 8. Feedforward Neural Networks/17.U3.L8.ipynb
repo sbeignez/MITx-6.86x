{
 "cells": [
  {
   "cell_type": "markdown",
   "metadata": {},
   "source": [
    "# 17. Unit 3. Lecture 8 Feedforward Neural Network"
   ]
  },
  {
   "cell_type": "markdown",
   "metadata": {},
   "source": [
    "## 17.3. Motivation"
   ]
  },
  {
   "cell_type": "markdown",
   "metadata": {},
   "source": [
    "Motivation to Neural Networks\n",
    "\n",
    "So far, the ways we have performed non-linear classification involve either first mapping $x$ explicitly into some feature vectors $\\phi(x)$ whose coordinates involve non-linear functions of $x$, or in order to increase computational efficiency, rewriting the decision rule in terms of a chosen kernel, i.e. the dot product of feature vectors, and then using the training data to learn a transformed classification parameter.\n",
    "\n",
    "However, in both cases, the feature vectors are chosen . They are not learned in order to improve performance of the classification problem at hand.\n",
    "\n",
    "Neural networks, on the other hand, are models in which the feature representation is learned jointly with the classifier to improve classification performance."
   ]
  },
  {
   "cell_type": "markdown",
   "metadata": {},
   "source": [
    "#### Note\n",
    "\n",
    "Consider the classification decision rule:\n",
    "\n",
    "$$..$$\n",
    "\n",
    "where  represent input data and  is the corresponding predicted labels, and we have omitted the bias/offset term for simplicity.\n",
    "\n",
    "The output of feature map $\\phi(x)$ is a vector that is not necessarily and often not of the same dimension of the input $x$.  \n",
    "\n",
    "For example, consider $..$, and $..$ a quadratic feature map $..$.\n",
    "\n",
    "The classification parameter $\\theta$ must of the same dimension of the feature vectors $\\phi(x)$ for the dot product $\\theta \\cdot \\phi(x)$ to make sense.\n"
   ]
  },
  {
   "cell_type": "markdown",
   "metadata": {},
   "source": [
    "## 4. Neural Network Unit"
   ]
  },
  {
   "cell_type": "markdown",
   "metadata": {},
   "source": [
    "A neural network unit is a primitive neural network that consists of only the “input layer\", and an output layer with only one output. It is represented pictorially as follows:\n",
    "\n",
    "* Input Layer $ x = [x_1, x_2, .., x_d] $\n",
    "* Weights $ w = [w_1, w_2, .., w_d]^T $\n",
    "* $ z = w_0 + \\sum_{i}^d x_iw_i $  \n",
    "  $ z = w_0 + x \\cdot w $\n",
    "* $ \\hat{y} = f(z) $  \n",
    "* $f$: the activation function\n",
    "  "
   ]
  },
  {
   "cell_type": "markdown",
   "metadata": {},
   "source": [
    "### 4. (a) Numerical Example - Neural Network Unit"
   ]
  },
  {
   "cell_type": "code",
   "execution_count": 2,
   "metadata": {},
   "outputs": [],
   "source": [
    "import numpy as np"
   ]
  },
  {
   "cell_type": "code",
   "execution_count": 3,
   "metadata": {},
   "outputs": [],
   "source": [
    "def z(x,w,w_0):\n",
    "    return np.dot(x,w) + w_0\n",
    "\n",
    "w_0 = -3\n",
    "w = np.array([1,-1])\n",
    "x = np.array([1,0])"
   ]
  },
  {
   "cell_type": "code",
   "execution_count": 4,
   "metadata": {},
   "outputs": [
    {
     "name": "stdout",
     "output_type": "stream",
     "text": [
      "[1 0] [ 1 -1] -3\n"
     ]
    }
   ],
   "source": [
    "print( x, w, w_0)"
   ]
  },
  {
   "cell_type": "code",
   "execution_count": 5,
   "metadata": {},
   "outputs": [
    {
     "data": {
      "text/plain": [
       "-2"
      ]
     },
     "execution_count": 5,
     "metadata": {},
     "output_type": "execute_result"
    }
   ],
   "source": [
    "z(x,w,w_0)"
   ]
  },
  {
   "cell_type": "markdown",
   "metadata": {},
   "source": [
    "### 4. (b) Hyperbolic Tangent Activation Function"
   ]
  },
  {
   "cell_type": "markdown",
   "metadata": {},
   "source": [
    "$$ tanh(x) = { e^x - e^{-x} \\over e^x + e^{-x} } = 1 - {2 \\over e^{2z} + 1}$$"
   ]
  },
  {
   "cell_type": "code",
   "execution_count": 11,
   "metadata": {},
   "outputs": [
    {
     "data": {
      "image/png": "[encoded data removed]",
      "text/plain": [
       "<Figure size 432x288 with 1 Axes>"
      ]
     },
     "metadata": {
      "needs_background": "light"
     },
     "output_type": "display_data"
    }
   ],
   "source": [
    "# plotting tanh(x)\n",
    "import matplotlib.pyplot as plt\n",
    "import numpy as np\n",
    "x = np.linspace(-4,4)\n",
    "plt.plot(x, np.tanh(x))\n",
    "\n",
    "plt.grid()\n",
    "plt.xlabel(\"x\")\n",
    "plt.ylabel(\"$tanh(x)$\")\n",
    "\n",
    "plt.show()"
   ]
  },
  {
   "cell_type": "markdown",
   "metadata": {},
   "source": [
    "* the domain of tanh(x) is $\\R$\n",
    "* the range of tanh(x) is ]-1,+1[\n",
    "* tanh(0) = 0\n",
    "* tanh is odd"
   ]
  },
  {
   "cell_type": "code",
   "execution_count": 8,
   "metadata": {},
   "outputs": [
    {
     "data": {
      "text/plain": [
       "0.0"
      ]
     },
     "execution_count": 8,
     "metadata": {},
     "output_type": "execute_result"
    }
   ],
   "source": [
    "np.tanh(0)"
   ]
  },
  {
   "cell_type": "markdown",
   "metadata": {},
   "source": [
    "## 5. Introduction to Deep Neural Networks\n",
    "Introduction and Motivation to Deep Neural Networks"
   ]
  },
  {
   "cell_type": "markdown",
   "metadata": {},
   "source": [
    "A deep (feedforward) neural network refers to a neural network that contains not only the input and output layers, but also hidden layers in between. For example, below is a deep feedfoward neural network of 2 hidden layers, with each hidden layer consisting of 5 units:\n",
    "\n",
    "* Layers\n",
    "  1 Input layer\n",
    "  0-many Hidden layers\n",
    "  1 Output layer\n",
    "* Width of a layer (number of nodes)\n",
    "* Depth of a NN (number of layers)\n",
    "\n",
    "The initial few layers of a neural networks typically capture the simpler and smaller features whereas the later layers use information from these low-level features to identify more complex and sophisticated features."
   ]
  },
  {
   "cell_type": "markdown",
   "metadata": {},
   "source": [
    "Why now?\n",
    "\n",
    "* Lots of data\n",
    "* Comoputational ressources\n",
    "* large models are easier to train\n",
    "* flexible neural \"lego pieces\""
   ]
  },
  {
   "cell_type": "markdown",
   "metadata": {},
   "source": [
    "### 5. (a) Representation Power of Neural Networks: 1\n",
    "\n"
   ]
  },
  {
   "cell_type": "markdown",
   "metadata": {},
   "source": [
    "In these two problems, we are going to explore how a neural network can represent any given binary functions. We will start in this problem by building the logic NAND function using a simple neural network.\n",
    "\n",
    "The logic NAND function is defined as $ y = NOT ( x_1\\ AND\\ x_2 ) $"
   ]
  },
  {
   "cell_type": "code",
   "execution_count": 16,
   "metadata": {},
   "outputs": [
    {
     "name": "stdout",
     "output_type": "stream",
     "text": [
      "[[0 0]\n",
      " [0 1]\n",
      " [1 0]\n",
      " [1 1]] [1 1 1 1]\n"
     ]
    }
   ],
   "source": [
    "x = np.array([(0,0), (0,1), (1,0), (1,1)])\n",
    "y = np.array([(1),(1),(1),(0)])\n",
    "print(x,y)"
   ]
  },
  {
   "cell_type": "code",
   "execution_count": 22,
   "metadata": {},
   "outputs": [
    {
     "data": {
      "text/plain": [
       "array([1, 1, 1, 0])"
      ]
     },
     "execution_count": 22,
     "metadata": {},
     "output_type": "execute_result"
    }
   ],
   "source": [
    "def z(x, w_0, w_1, w_2):\n",
    "    z = np.array([w_1,w_2])\n",
    "    return np.dot(x,z) + w_0\n",
    "def u(z):\n",
    "    if z <= 0:\n",
    "        return 0\n",
    "    else:\n",
    "        return 1\n",
    "\n",
    "np.vectorize(u)(z(x, 2, -1, -1))"
   ]
  },
  {
   "cell_type": "markdown",
   "metadata": {},
   "source": [
    "### 5. (b) Representation Power of Neural Networks: 2"
   ]
  },
  {
   "cell_type": "markdown",
   "metadata": {},
   "source": [
    "## 6. Hidden Layer Models"
   ]
  },
  {
   "cell_type": "code",
   "execution_count": 42,
   "metadata": {},
   "outputs": [],
   "source": [
    "x1 = [-1,-1]\n",
    "x2 = [ 1,-1]\n",
    "x3 = [-1, 1]\n",
    "x4 = [ 1, 1]\n",
    "X = [x1, x2, x3, x4]\n",
    "Y = [1, -1, -1, 1]\n",
    "\n",
    "def f(z):\n",
    "    return 2*z -3\n",
    "\n",
    "def f12(x_i, w01, w02, w11, w21, w12, w22):\n",
    "    f1 = f( w01 + w11 * x_i[0] + w21 * x_i[1])\n",
    "    f2 = f( w02 + w12 * x_i[0] + w22 * x_i[1])\n",
    "    return f1, f2\n",
    "\n"
   ]
  },
  {
   "cell_type": "code",
   "execution_count": 43,
   "metadata": {},
   "outputs": [
    {
     "name": "stdout",
     "output_type": "stream",
     "text": [
      "(7, -9)\n",
      "[[[-3, -3, -3, -3], [-3, -3, -3, -3]], [[-9, -1, -1, 7], [7, -1, -1, -9]], [[7, -1, -1, -9], [-9, -1, -1, 7]]]\n"
     ]
    }
   ],
   "source": [
    "Q1 = ( 0, 0, 0, 0, 0, 0)\n",
    "Q2 = ( 1, 1, 2, 2,-2,-2)\n",
    "Q3 = ( 1, 1,-2,-2, 2, 2)\n",
    "Q = [Q1, Q2, Q3]\n",
    "\n",
    "print(f12(X[3], *Q2))\n",
    "\n",
    "P = []\n",
    "for q in Q:\n",
    "    X1, X2 = [], []\n",
    "    for x in X:\n",
    "        x1 , x2 = f12(x, *q)\n",
    "        X1.append(x1)\n",
    "        X2.append(x2)\n",
    "    P.append([X1, X2])\n",
    "\n",
    "print(P)\n",
    "\n"
   ]
  },
  {
   "cell_type": "code",
   "execution_count": 45,
   "metadata": {},
   "outputs": [
    {
     "data": {
      "image/png": "[encoded data removed]",
      "text/plain": [
       "<Figure size 432x288 with 1 Axes>"
      ]
     },
     "metadata": {
      "needs_background": "light"
     },
     "output_type": "display_data"
    },
    {
     "data": {
      "image/png": "[encoded data removed]",
      "text/plain": [
       "<Figure size 432x288 with 1 Axes>"
      ]
     },
     "metadata": {
      "needs_background": "light"
     },
     "output_type": "display_data"
    },
    {
     "data": {
      "image/png": "[encoded data removed]",
      "text/plain": [
       "<Figure size 432x288 with 1 Axes>"
      ]
     },
     "metadata": {
      "needs_background": "light"
     },
     "output_type": "display_data"
    }
   ],
   "source": [
    "import matplotlib.pyplot as plt\n",
    "\n",
    "for i, p in enumerate(P):\n",
    "    fig, ax = plt.subplots()\n",
    "    ax.scatter(*p)\n",
    "    for j, pts in enumerate(list(zip(p[0], p[1]))):\n",
    "        ax.annotate( str(pts[0]) + \";\" + str(pts[1]) + \": \" + str(Y[j]), (pts[0], pts[1]))\n",
    "\n",
    "    plt.show()"
   ]
  },
  {
   "cell_type": "code",
   "execution_count": null,
   "metadata": {},
   "outputs": [],
   "source": []
  }
 ],
 "metadata": {
  "interpreter": {
   "hash": "6901038fa2fcd02ac3ace02f6bb6643ab81c1e9472821c23450f8affb24b877b"
  },
  "kernelspec": {
   "display_name": "Python 3.9.4 64-bit ('mitx': venv)",
   "name": "python3"
  },
  "language_info": {
   "codemirror_mode": {
    "name": "ipython",
    "version": 3
   },
   "file_extension": ".py",
   "mimetype": "text/x-python",
   "name": "python",
   "nbconvert_exporter": "python",
   "pygments_lexer": "ipython3",
   "version": "3.9.4"
  },
  "orig_nbformat": 4
 },
 "nbformat": 4,
 "nbformat_minor": 2
}
