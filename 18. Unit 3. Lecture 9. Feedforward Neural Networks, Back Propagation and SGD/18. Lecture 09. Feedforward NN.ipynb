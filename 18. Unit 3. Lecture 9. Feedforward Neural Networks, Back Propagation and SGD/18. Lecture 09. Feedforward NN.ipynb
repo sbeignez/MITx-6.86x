{
 "cells": [
  {
   "cell_type": "markdown",
   "metadata": {},
   "source": [
    "# 18. Lecture 9: Feedforward Neural Network"
   ]
  },
  {
   "cell_type": "markdown",
   "metadata": {},
   "source": [
    "## 1. Objectives"
   ]
  },
  {
   "cell_type": "markdown",
   "metadata": {},
   "source": [
    "Feedforward Neural Networks, Back-propagation, and Stochastic Gradient Descent\n",
    "\n",
    "Objectives:\n",
    "\n",
    "* Write down recursive relations with **back-propagation algorithm** to compute the gradient of the loss function with respect to the weight parameters.\n",
    "\n",
    "* Use the **stochastic descent algorithm** to train a feedforward neural network.\n",
    "\n",
    "* Understand that it is not guaranteed to reach global (only local) optimum with SGD to minimize the training loss.\n",
    "\n",
    "* Recognize when a network has **overcapacity**."
   ]
  },
  {
   "cell_type": "markdown",
   "metadata": {},
   "source": [
    "## 2. Back-propagation algorithm"
   ]
  },
  {
   "cell_type": "markdown",
   "metadata": {},
   "source": [
    "How to evaluate the the gradient (the derivative of the loss)?\n",
    "\n"
   ]
  },
  {
   "cell_type": "markdown",
   "metadata": {},
   "source": [
    "## 3. Training Model with 1 hidden Layer"
   ]
  },
  {
   "cell_type": "markdown",
   "metadata": {},
   "source": [
    "Summary:\n",
    "\n",
    "* For multi-layer neural networks, stochastic gradient descent (SGD) is not guaranteed to reach a global optimum\n",
    "\n",
    "* Overcapcity help optimization\n",
    "    * Larger models tend to be easier to learn because their units only need to be adjusted so that they are, collectively, sufficient to solve the task\n",
    "    * Overcapicty (= number of units vs. dimension)\n",
    "\n",
    "* Initialization has a role to find a good solution during training of neural networks\n",
    "    * Randomization of initialization parameters give smoothness"
   ]
  }
 ],
 "metadata": {
  "language_info": {
   "name": "python"
  },
  "orig_nbformat": 4
 },
 "nbformat": 4,
 "nbformat_minor": 2
}
