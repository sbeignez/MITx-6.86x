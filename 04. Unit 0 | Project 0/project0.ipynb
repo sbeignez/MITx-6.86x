{
 "cells": [
  {
   "cell_type": "code",
   "execution_count": 5,
   "source": [
    "import numpy as np\n",
    "\n"
   ],
   "outputs": [],
   "metadata": {}
  },
  {
   "cell_type": "code",
   "execution_count": 9,
   "source": [
    "x = [1,2]\n",
    "x = np.array(x)\n",
    "y = np.array([3,4])"
   ],
   "outputs": [],
   "metadata": {}
  },
  {
   "cell_type": "code",
   "execution_count": 10,
   "source": [
    "x"
   ],
   "outputs": [
    {
     "output_type": "execute_result",
     "data": {
      "text/plain": [
       "array([1, 2])"
      ]
     },
     "metadata": {},
     "execution_count": 10
    }
   ],
   "metadata": {}
  },
  {
   "cell_type": "code",
   "execution_count": 12,
   "source": [
    "np.matmul(x,y)"
   ],
   "outputs": [
    {
     "output_type": "execute_result",
     "data": {
      "text/plain": [
       "11"
      ]
     },
     "metadata": {},
     "execution_count": 12
    }
   ],
   "metadata": {}
  },
  {
   "cell_type": "code",
   "execution_count": 13,
   "source": [
    "for x in range(3):\n",
    "    print(x)\n"
   ],
   "outputs": [
    {
     "output_type": "stream",
     "name": "stdout",
     "text": [
      "0\n",
      "1\n",
      "2\n"
     ]
    }
   ],
   "metadata": {}
  },
  {
   "cell_type": "code",
   "execution_count": 43,
   "source": [
    "F = []\n",
    "for i in range(6):\n",
    "    F.append(lambda x: x+i)\n",
    "    print(F)\n"
   ],
   "outputs": [
    {
     "output_type": "stream",
     "name": "stdout",
     "text": [
      "[<function <lambda> at 0x7feb879ab430>]\n",
      "[<function <lambda> at 0x7feb879ab430>, <function <lambda> at 0x7feb879ab550>]\n",
      "[<function <lambda> at 0x7feb879ab430>, <function <lambda> at 0x7feb879ab550>, <function <lambda> at 0x7feb879aba60>]\n",
      "[<function <lambda> at 0x7feb879ab430>, <function <lambda> at 0x7feb879ab550>, <function <lambda> at 0x7feb879aba60>, <function <lambda> at 0x7feb879ab670>]\n",
      "[<function <lambda> at 0x7feb879ab430>, <function <lambda> at 0x7feb879ab550>, <function <lambda> at 0x7feb879aba60>, <function <lambda> at 0x7feb879ab670>, <function <lambda> at 0x7feb879abaf0>]\n",
      "[<function <lambda> at 0x7feb879ab430>, <function <lambda> at 0x7feb879ab550>, <function <lambda> at 0x7feb879aba60>, <function <lambda> at 0x7feb879ab670>, <function <lambda> at 0x7feb879abaf0>, <function <lambda> at 0x7feb879abb80>]\n"
     ]
    }
   ],
   "metadata": {}
  },
  {
   "cell_type": "code",
   "execution_count": 46,
   "source": [
    "F[0](100)"
   ],
   "outputs": [
    {
     "output_type": "execute_result",
     "data": {
      "text/plain": [
       "105"
      ]
     },
     "metadata": {},
     "execution_count": 46
    }
   ],
   "metadata": {}
  },
  {
   "cell_type": "code",
   "execution_count": 38,
   "source": [
    "F"
   ],
   "outputs": [
    {
     "output_type": "execute_result",
     "data": {
      "text/plain": [
       "[<function __main__.<lambda>(x)>,\n",
       " <function __main__.<lambda>(x)>,\n",
       " <function __main__.<lambda>(x)>,\n",
       " <function __main__.<lambda>(x)>,\n",
       " <function __main__.<lambda>(x)>]"
      ]
     },
     "metadata": {},
     "execution_count": 38
    }
   ],
   "metadata": {}
  }
 ],
 "metadata": {
  "orig_nbformat": 4,
  "language_info": {
   "name": "python",
   "version": "3.9.4",
   "mimetype": "text/x-python",
   "codemirror_mode": {
    "name": "ipython",
    "version": 3
   },
   "pygments_lexer": "ipython3",
   "nbconvert_exporter": "python",
   "file_extension": ".py"
  },
  "kernelspec": {
   "name": "python3",
   "display_name": "Python 3.9.4 64-bit"
  },
  "interpreter": {
   "hash": "aee8b7b246df8f9039afb4144a1f6fd8d2ca17a180786b69acc140d282b71a49"
  }
 },
 "nbformat": 4,
 "nbformat_minor": 2
}