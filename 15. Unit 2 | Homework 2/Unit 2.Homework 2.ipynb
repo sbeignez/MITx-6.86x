{
 "cells": [
  {
   "cell_type": "markdown",
   "source": [
    "# 15. Unit 2. Homework 2"
   ],
   "metadata": {}
  },
  {
   "cell_type": "markdown",
   "source": [
    "## 1. Collaborative Filtering, Kernels, Linear Regression"
   ],
   "metadata": {}
  },
  {
   "cell_type": "markdown",
   "source": [
    "### 1.(a)"
   ],
   "metadata": {}
  },
  {
   "cell_type": "code",
   "execution_count": 2,
   "source": [
    "import numpy as np\n",
    "U = np.array([6,0,3,6]).reshape(4,1)\n",
    "V = np.array([4,2,1]).reshape(3,1)\n",
    "print(U, V, sep=\"\\n\\n\")"
   ],
   "outputs": [
    {
     "output_type": "stream",
     "name": "stdout",
     "text": [
      "[[6]\n",
      " [0]\n",
      " [3]\n",
      " [6]]\n",
      "\n",
      "[[4]\n",
      " [2]\n",
      " [1]]\n"
     ]
    }
   ],
   "metadata": {}
  },
  {
   "cell_type": "code",
   "execution_count": 3,
   "source": [
    "X = U*V.T\n",
    "print(X)"
   ],
   "outputs": [
    {
     "output_type": "stream",
     "name": "stdout",
     "text": [
      "[[24 12  6]\n",
      " [ 0  0  0]\n",
      " [12  6  3]\n",
      " [24 12  6]]\n"
     ]
    }
   ],
   "metadata": {}
  },
  {
   "cell_type": "markdown",
   "source": [
    "### 1.(b)"
   ],
   "metadata": {}
  },
  {
   "cell_type": "code",
   "execution_count": 4,
   "source": [
    "Y = np.array([5., np.nan, 7, np.nan, 2, np.nan, 4, np.nan, np.nan, np.nan, 3, 6]).reshape(4,3)\n",
    "print(Y)"
   ],
   "outputs": [
    {
     "output_type": "stream",
     "name": "stdout",
     "text": [
      "[[ 5. nan  7.]\n",
      " [nan  2. nan]\n",
      " [ 4. nan nan]\n",
      " [nan  3.  6.]]\n"
     ]
    }
   ],
   "metadata": {}
  },
  {
   "cell_type": "code",
   "execution_count": 9,
   "source": [
    "np.sum( (Y - X)**2 ) / 2 # test"
   ],
   "outputs": [
    {
     "output_type": "execute_result",
     "data": {
      "text/plain": [
       "nan"
      ]
     },
     "metadata": {},
     "execution_count": 9
    }
   ],
   "metadata": {}
  },
  {
   "cell_type": "code",
   "execution_count": 6,
   "source": [
    "n , m = X.shape\n",
    "sum = 0\n",
    "\n",
    "for N in range(n):\n",
    "    for M in range(m):\n",
    "        if ~np.isnan(Y[N][M]) and ~np.isnan(X[N][M]):\n",
    "            print( \"(\" , Y[N][M], \"-\", X[N][M], \")^2 \", (Y[N][M] - X[N][M]) ** 2, end=\" + \")\n",
    "            sum += (Y[N][M] - X[N][M]) ** 2\n",
    "sum /= 2\n",
    "\n",
    "print(\" / 2 = \", sum)"
   ],
   "outputs": [
    {
     "output_type": "stream",
     "name": "stdout",
     "text": [
      "( 5.0 - 24 )^2  361.0 + ( 7.0 - 6 )^2  1.0 + ( 2.0 - 0 )^2  4.0 + ( 4.0 - 12 )^2  64.0 + ( 3.0 - 12 )^2  81.0 + ( 6.0 - 6 )^2  0.0 +  / 2 =  255.5\n"
     ]
    }
   ],
   "metadata": {}
  },
  {
   "cell_type": "code",
   "execution_count": 7,
   "source": [
    "(np.sum(U**2)+np.sum(V**2))/2\n",
    "\n"
   ],
   "outputs": [
    {
     "output_type": "execute_result",
     "data": {
      "text/plain": [
       "51.0"
      ]
     },
     "metadata": {},
     "execution_count": 7
    }
   ],
   "metadata": {}
  },
  {
   "cell_type": "markdown",
   "source": [
    "### 1. (c)"
   ],
   "metadata": {}
  },
  {
   "cell_type": "markdown",
   "source": [
    "$$\n",
    "\\begin{matrix}\n",
    "X=UV^T & { \\begin{bmatrix} 4 & 2 & 1 \\end{bmatrix} } \\\\\n",
    "{\\begin{bmatrix} u_1 \\\\ u_2 \\\\ u_3 \\\\ u_4 \\end{bmatrix}} & {\\begin{bmatrix} 4*u_1 & 2*u_1 & 1*u_1 \\\\ 4*u_2 & 2*u_2 & 1*u_2 \\\\ 4*u_3 & 2*u_3 & 1*u_3 \\\\ 4*u_4 & 2*u_4 & 1*u_4 \\end{bmatrix}}\n",
    "\\end{matrix}\n",
    "$$"
   ],
   "metadata": {}
  },
  {
   "cell_type": "code",
   "execution_count": 38,
   "source": [
    "## u1\n",
    "\n",
    "from sympy import *\n",
    "import numpy as np\n",
    "x, L = symbols('x L')\n",
    "y = pow((1-4*x),2)/2 + pow((8-2*x),2)/2 + L/2*pow(x,2)\n",
    "yprime = y.diff(x)\n",
    "yprime"
   ],
   "outputs": [
    {
     "output_type": "execute_result",
     "data": {
      "text/latex": [
       "$\\displaystyle L x + 20 x - 20$"
      ],
      "text/plain": [
       "L*x + 20*x - 20"
      ]
     },
     "metadata": {},
     "execution_count": 38
    }
   ],
   "metadata": {}
  },
  {
   "cell_type": "code",
   "execution_count": 39,
   "source": [
    "eq = Eq(yprime,0)\n",
    "solution = solve(eq, x)\n",
    "solution"
   ],
   "outputs": [
    {
     "output_type": "execute_result",
     "data": {
      "text/plain": [
       "[20/(L + 20)]"
      ]
     },
     "metadata": {},
     "execution_count": 39
    }
   ],
   "metadata": {}
  },
  {
   "cell_type": "code",
   "execution_count": 54,
   "source": [
    "np.nansum(Y*V.T, axis=1).reshape(4,1)"
   ],
   "outputs": [
    {
     "output_type": "execute_result",
     "data": {
      "text/plain": [
       "array([[27.],\n",
       "       [ 4.],\n",
       "       [16.],\n",
       "       [12.]])"
      ]
     },
     "metadata": {},
     "execution_count": 54
    }
   ],
   "metadata": {}
  },
  {
   "cell_type": "code",
   "execution_count": 66,
   "source": [
    "np.nansum((Y*V.T)/(Y*V.T) * (V*V).T, axis=1).reshape(4,1)+1"
   ],
   "outputs": [
    {
     "output_type": "execute_result",
     "data": {
      "text/plain": [
       "array([[18.],\n",
       "       [ 5.],\n",
       "       [17.],\n",
       "       [ 6.]])"
      ]
     },
     "metadata": {},
     "execution_count": 66
    }
   ],
   "metadata": {}
  },
  {
   "cell_type": "code",
   "execution_count": 73,
   "source": [
    "def YuV(Y, V):\n",
    "    num = np.nansum(Y*V.T, axis=1).reshape(4,1)\n",
    "    denum = np.nansum((Y*V.T)/(Y*V.T) * (V*V).T, axis=1).reshape(4,1)+1\n",
    "    return num, denum\n",
    "\n",
    "solution = YuV(Y,V)\n",
    "\n",
    "for i in range(4):\n",
    "    print(solution[0][i] , solution[1][i])"
   ],
   "outputs": [
    {
     "output_type": "stream",
     "name": "stdout",
     "text": [
      "[27.] [18.]\n",
      "[4.] [5.]\n",
      "[16.] [17.]\n",
      "[12.] [6.]\n"
     ]
    }
   ],
   "metadata": {}
  },
  {
   "cell_type": "markdown",
   "source": [
    "## 2. Feature Vectors Transformation"
   ],
   "metadata": {}
  },
  {
   "cell_type": "markdown",
   "source": [
    "### 2. (a)"
   ],
   "metadata": {}
  },
  {
   "cell_type": "code",
   "execution_count": null,
   "source": [],
   "outputs": [],
   "metadata": {}
  },
  {
   "cell_type": "markdown",
   "source": [
    "## 3. Kernels"
   ],
   "metadata": {}
  },
  {
   "cell_type": "markdown",
   "source": [
    "### 3. (a)"
   ],
   "metadata": {}
  },
  {
   "cell_type": "markdown",
   "source": [
    "### 3 (b)"
   ],
   "metadata": {}
  },
  {
   "cell_type": "markdown",
   "source": [
    "## 4. Kernels-II"
   ],
   "metadata": {}
  },
  {
   "cell_type": "markdown",
   "source": [
    "### 4. (a)"
   ],
   "metadata": {}
  },
  {
   "cell_type": "markdown",
   "source": [
    "1. \n",
    "[x] linear kernel \n",
    "[ ] quadratic kernel\n",
    "[x] order 3 kernel\n",
    "[x] RBF kernel\n",
    "\n",
    "2. \n",
    "[x] linear kernel\n",
    "[x] quadratic kernel\n",
    "[x] order 3 kernel\n",
    "[v] RBF kernel\n",
    "\n",
    "\n",
    "3. \n",
    "[v] linear kernel\n",
    "[x] quadratic kernel\n",
    "[x] order 3 kernel\n",
    "[x] RBF kernel\n",
    "\n",
    "4. \n",
    "[x] linear kernel\n",
    "[x] quadratic kernel\n",
    "[ ] order 3 kernel\n",
    "[x] RBF kernel\n"
   ],
   "metadata": {}
  },
  {
   "cell_type": "markdown",
   "source": [
    "## 5. Linear Regression and Regularization"
   ],
   "metadata": {}
  },
  {
   "cell_type": "markdown",
   "source": [],
   "metadata": {}
  },
  {
   "cell_type": "markdown",
   "source": [],
   "metadata": {}
  },
  {
   "cell_type": "markdown",
   "source": [
    "\n",
    "> 2*lambda*theta - 2*sum_t(y^{t}-theta*x^{t}-theta_0)*x^{t}\n",
    "\n",
    "$$ {\\partial L \\over \\partial\\theta} = 2*\\lambda*\\theta - 2*\\sum_t(y^{t}-\\theta*x^{t}-\\theta_0)*x^{t} $$\n",
    "\n",
    "> -2*sum_t(y^{t}-theta*x^{t}-theta_0)\n",
    "\n",
    "$$ {\\partial L \\over \\partial\\theta_0} = -2*\\sum_t(y^{t}-\\theta*x^{t}-\\theta_0) $$"
   ],
   "metadata": {}
  },
  {
   "cell_type": "markdown",
   "source": [
    "### 5. (c)"
   ],
   "metadata": {}
  },
  {
   "cell_type": "markdown",
   "source": [
    "Find the closed form expression for $\\theta$ and $\\theta_0$ which solves the ridge regression minimization above.\n",
    "\n",
    "Assume  is fixed, write down an expression for the optimal  in terms of .\n",
    "\n",
    "\n",
    "1/ \n",
    "For the first part, take your solution for ${\\partial L \\over \\partial\\theta_0}$ from 5(b), set to zero, and solve for $\\theta_0$.\n"
   ],
   "metadata": {}
  },
  {
   "cell_type": "markdown",
   "source": [
    "= 1/n*sum_t(y^{t} - theta*x^{t})"
   ],
   "metadata": {}
  },
  {
   "cell_type": "markdown",
   "source": [
    "\n",
    "\n",
    "\n",
    "2/\n",
    "For the second part, take your solution for ${\\partial L \\over \\partial\\theta}$ from 5(b), replace $\\theta_0$ with the first step from 5(c), set to zero, and solve for $--$. \n"
   ],
   "metadata": {}
  },
  {
   "cell_type": "markdown",
   "source": [
    "= (sum_t(x^{t}*y^{t})-sum_t(x^{t})*sum_t(y^{t}))/(lambda - barx*sum_t(x^{t})+sum_t((x^{t})^2))"
   ],
   "metadata": {}
  },
  {
   "cell_type": "markdown",
   "source": [],
   "metadata": {}
  }
 ],
 "metadata": {
  "orig_nbformat": 4,
  "language_info": {
   "name": "python",
   "version": "3.9.4",
   "mimetype": "text/x-python",
   "codemirror_mode": {
    "name": "ipython",
    "version": 3
   },
   "pygments_lexer": "ipython3",
   "nbconvert_exporter": "python",
   "file_extension": ".py"
  },
  "kernelspec": {
   "name": "python3",
   "display_name": "Python 3.9.4 64-bit ('mitx': venv)"
  },
  "interpreter": {
   "hash": "15e51f281b74df870bc96395af709f6aec195f784becb22e402cd9ef36232d0d"
  }
 },
 "nbformat": 4,
 "nbformat_minor": 2
}