{
 "cells": [
  {
   "cell_type": "markdown",
   "metadata": {},
   "source": [
    "# 5. Grading policy"
   ]
  },
  {
   "cell_type": "markdown",
   "metadata": {},
   "source": [
    "Final score = \n",
    "* 16% for the lecture exercises (divided equally among the 16 out of 19 lectures)\n",
    "* 1% for the Homework 0 \n",
    "* 12% for the homeworks (divided equally among 4 (out of 5) homeworks)\n",
    "* 2% for the Project 0 \n",
    "* 36% for the Projects (divided equally among 4 (out of 5) \n",
    "* 13% for the Midterm exam (timed) \n",
    "* 20% for the final exam (timed)\n"
   ]
  },
  {
   "cell_type": "code",
   "execution_count": 7,
   "metadata": {},
   "outputs": [
    {
     "data": {
      "text/plain": [
       "[100,\n",
       " 100,\n",
       " 100,\n",
       " 100,\n",
       " 100,\n",
       " 100,\n",
       " 100,\n",
       " 100.0,\n",
       " 100.0,\n",
       " 100.0,\n",
       " 100.0,\n",
       " 92.85714285714286,\n",
       " 0,\n",
       " 0]"
      ]
     },
     "execution_count": 7,
     "metadata": {},
     "output_type": "execute_result"
    }
   ],
   "source": [
    "exercises = [0] * (19+1)\n",
    "exercises[1] = 100\n",
    "exercises[2] = 100\n",
    "exercises[3] = 100\n",
    "exercises[4] = 100\n",
    "exercises[5] = 100\n",
    "exercises[6] = 100\n",
    "exercises[7] = 100\n",
    "exercises[8] = 13/14 * 100\n",
    "exercises[9] = 5/5 * 100\n",
    "exercises[10] = 18/18 * 100\n",
    "exercises[11] = 18/18 * 100\n",
    "exercises[12] = 11/11 * 100\n",
    "exercises[13] = 0\n",
    "exercises[14] = 0\n",
    "exercises[15] = 0\n",
    "\n",
    "\n",
    "best_exercices = sorted(exercises[1:], reverse= True)[:14]\n",
    "best_exercices"
   ]
  },
  {
   "cell_type": "code",
   "execution_count": 8,
   "metadata": {},
   "outputs": [
    {
     "data": {
      "text/plain": [
       "[100.0, 92.5, 92.0, 0]"
      ]
     },
     "execution_count": 8,
     "metadata": {},
     "output_type": "execute_result"
    }
   ],
   "source": [
    "homeworks = [None] * (5 + 1)\n",
    "homeworks[0] = 92\n",
    "homeworks[1] = 37 / 40 * 100\n",
    "homeworks[2] = 23 / 25 * 100\n",
    "homeworks[3] = 26 / 26 * 100\n",
    "homeworks[4] = 0\n",
    "homeworks[5] = 0\n",
    "\n",
    "best_homeworks = sorted(homeworks[1:], reverse= True)[:4]\n",
    "best_homeworks"
   ]
  },
  {
   "cell_type": "code",
   "execution_count": 9,
   "metadata": {},
   "outputs": [
    {
     "data": {
      "text/plain": [
       "[100.0, 99.16666666666667, 0, 0]"
      ]
     },
     "execution_count": 9,
     "metadata": {},
     "output_type": "execute_result"
    }
   ],
   "source": [
    "projects = [0] * (1 + 5)\n",
    "projects[0] = 100\n",
    "projects[1] = 39/39 * 100\n",
    "projects[2] = 71.4 / 72 * 100\n",
    "\n",
    "best_projects = sorted(projects[1:], reverse= True)[:4]\n",
    "best_projects\n"
   ]
  },
  {
   "cell_type": "code",
   "execution_count": 10,
   "metadata": {},
   "outputs": [],
   "source": [
    "exam_midterm = 0\n",
    "exam_final = 0"
   ]
  },
  {
   "cell_type": "code",
   "execution_count": 11,
   "metadata": {},
   "outputs": [
    {
     "name": "stdout",
     "output_type": "stream",
     "text": [
      "43.01265306122449\n"
     ]
    }
   ],
   "source": [
    "final_grade = (\n",
    "        sum(best_exercices)/14 * 16/100 +\n",
    "        homeworks[0] * 1/100 +\n",
    "        sum(best_homeworks)/4 * 12/100 +\n",
    "        projects[0] * 2/100 +\n",
    "        sum(best_projects)/4 * 36/100 + \n",
    "        exam_midterm * 13/100 +\n",
    "        exam_final * 20/100\n",
    ")\n",
    "\n",
    "print(final_grade)"
   ]
  },
  {
   "cell_type": "code",
   "execution_count": 12,
   "metadata": {},
   "outputs": [],
   "source": [
    "#"
   ]
  }
 ],
 "metadata": {
  "interpreter": {
   "hash": "6901038fa2fcd02ac3ace02f6bb6643ab81c1e9472821c23450f8affb24b877b"
  },
  "kernelspec": {
   "display_name": "Python 3.9.4 64-bit ('mitx': venv)",
   "name": "python3"
  },
  "language_info": {
   "codemirror_mode": {
    "name": "ipython",
    "version": 3
   },
   "file_extension": ".py",
   "mimetype": "text/x-python",
   "name": "python",
   "nbconvert_exporter": "python",
   "pygments_lexer": "ipython3",
   "version": "3.9.4"
  },
  "orig_nbformat": 4
 },
 "nbformat": 4,
 "nbformat_minor": 2
}
