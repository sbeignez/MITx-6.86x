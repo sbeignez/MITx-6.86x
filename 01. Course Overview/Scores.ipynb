{
 "cells": [
  {
   "cell_type": "markdown",
   "metadata": {},
   "source": [
    "# 5. Grading policy"
   ]
  },
  {
   "cell_type": "markdown",
   "metadata": {},
   "source": [
    "Final score = \n",
    "* 16% for the lecture exercises (divided equally among the 16 out of 19 lectures)\n",
    "* 1% for the Homework 0 \n",
    "* 12% for the homeworks (divided equally among 4 (out of 5) homeworks)\n",
    "* 2% for the Project 0 \n",
    "* 36% for the Projects (divided equally among 4 (out of 5) \n",
    "* 13% for the Midterm exam (timed) \n",
    "* 20% for the final exam (timed)\n"
   ]
  },
  {
   "cell_type": "code",
   "execution_count": 5,
   "metadata": {},
   "outputs": [
    {
     "name": "stdout",
     "output_type": "stream",
     "text": [
      "100.0\n"
     ]
    }
   ],
   "source": [
    "exercises = [0] * (19+1)\n",
    "exercises[1] = 100\n",
    "exercises[2] = 100\n",
    "exercises[3] = 100\n",
    "exercises[4] = 100\n",
    "exercises[5] = 100\n",
    "exercises[6] = 100\n",
    "exercises[7] = 100\n",
    "exercises[8] = 13/14 * 100\n",
    "exercises[9] = 5/5 * 100\n",
    "exercises[10] = 18/18 * 100\n",
    "exercises[11] = 18/18 * 100\n",
    "exercises[12] = 11/11 * 100\n",
    "exercises[13] = 23/23 * 100\n",
    "exercises[14] = 10/10 * 100\n",
    "exercises[15] = 24/24 * 100\n",
    "exercises[16] = 11/20 * 100\n",
    "exercises[17] = 19/20 * 100\n",
    "exercises[18] = 8/8 * 100\n",
    "exercises[19] = 8/8 * 100\n",
    "\n",
    "\n",
    "best_exercices = sorted(exercises[1:], reverse= True)[:14]\n",
    "print(sum(best_exercices)/14)"
   ]
  },
  {
   "cell_type": "code",
   "execution_count": 6,
   "metadata": {},
   "outputs": [
    {
     "name": "stdout",
     "output_type": "stream",
     "text": [
      "[100.0, 92.5, 92.0, 91.66666666666666]\n"
     ]
    }
   ],
   "source": [
    "homeworks = [None] * (5 + 1)\n",
    "homeworks[0] = 92\n",
    "homeworks[1] = 37 / 40 * 100\n",
    "homeworks[2] = 23 / 25 * 100\n",
    "homeworks[3] = 26 / 26 * 100\n",
    "homeworks[4] = 24 / 32 * 100\n",
    "homeworks[5] = 33 / 36 * 100\n",
    "\n",
    "best_homeworks = sorted(homeworks[1:], reverse= True)[:4]\n",
    "print( best_homeworks)"
   ]
  },
  {
   "cell_type": "code",
   "execution_count": 7,
   "metadata": {},
   "outputs": [
    {
     "data": {
      "text/plain": [
       "[100.0, 100.0, 99.16666666666667, 92.3076923076923]"
      ]
     },
     "execution_count": 7,
     "metadata": {},
     "output_type": "execute_result"
    }
   ],
   "source": [
    "projects = [0] * (1 + 5)\n",
    "projects[0] = 100\n",
    "projects[1] = 39   / 39 * 100\n",
    "projects[2] = 71.4 / 72 * 100\n",
    "projects[3] = 36   / 39 * 100\n",
    "projects[4] = 14   / 14 * 100\n",
    "projects[5] = 8    / 14 * 100\n",
    "\n",
    "best_projects = sorted(projects[1:], reverse= True)[:4]\n",
    "best_projects\n"
   ]
  },
  {
   "cell_type": "code",
   "execution_count": 12,
   "metadata": {},
   "outputs": [
    {
     "data": {
      "text/plain": [
       "5.423728813559322"
      ]
     },
     "execution_count": 12,
     "metadata": {},
     "output_type": "execute_result"
    }
   ],
   "source": [
    "exam_midterm = 36.2 / 38 * 100\n",
    "exam_final = 8 / 29.5 * 100 #???\n",
    "\n",
    "# 1: 2.5 + 4 (6.5)\n",
    "# 2: 4 + 1 + 1 + 1 (7)\n",
    "# 3: 2 + 2 (4)...OK\n",
    "# 4: 2 + 3 + 1 + 1 + 1 (8)\n",
    "# 5: 3 + 1 (4)\n",
    "\n",
    "# total = 29.5\n",
    "\n",
    "exam_final * .2"
   ]
  },
  {
   "cell_type": "code",
   "execution_count": 13,
   "metadata": {},
   "outputs": [
    {
     "name": "stdout",
     "output_type": "stream",
     "text": [
      "TOTAL: 83.25 %\n"
     ]
    }
   ],
   "source": [
    "final_grade = (\n",
    "        sum(best_exercices)/14 * 16/100 +\n",
    "        homeworks[0] * 1/100 +\n",
    "        sum(best_homeworks)/4 * 12/100 +\n",
    "        projects[0] * 2/100 +\n",
    "        sum(best_projects)/4 * 36/100 + \n",
    "        exam_midterm * 13/100 +\n",
    "        exam_final * 20/100\n",
    ")\n",
    "\n",
    "print(\"TOTAL:\", round(final_grade,2), \"%\")"
   ]
  },
  {
   "cell_type": "code",
   "execution_count": null,
   "metadata": {},
   "outputs": [],
   "source": []
  }
 ],
 "metadata": {
  "interpreter": {
   "hash": "6901038fa2fcd02ac3ace02f6bb6643ab81c1e9472821c23450f8affb24b877b"
  },
  "kernelspec": {
   "display_name": "Python 3.9.4 64-bit ('mitx': venv)",
   "name": "python3"
  },
  "language_info": {
   "codemirror_mode": {
    "name": "ipython",
    "version": 3
   },
   "file_extension": ".py",
   "mimetype": "text/x-python",
   "name": "python",
   "nbconvert_exporter": "python",
   "pygments_lexer": "ipython3",
   "version": "3.9.4"
  },
  "orig_nbformat": 4
 },
 "nbformat": 4,
 "nbformat_minor": 2
}
