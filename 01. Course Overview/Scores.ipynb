{
 "cells": [
  {
   "cell_type": "markdown",
   "metadata": {},
   "source": [
    "# 5. Grading policy"
   ]
  },
  {
   "cell_type": "markdown",
   "metadata": {},
   "source": [
    "Final score = \n",
    "* 16% for the lecture exercises (divided equally among the 16 out of 19 lectures)\n",
    "* 1% for the Homework 0 \n",
    "* 12% for the homeworks (divided equally among 4 (out of 5) homeworks)\n",
    "* 2% for the Project 0 \n",
    "* 36% for the Projects (divided equally among 4 (out of 5) \n",
    "* 13% for the Midterm exam (timed) \n",
    "* 20% for the final exam (timed)\n"
   ]
  },
  {
   "cell_type": "code",
   "execution_count": 43,
   "metadata": {},
   "outputs": [
    {
     "data": {
      "text/plain": [
       "[100, 100, 100, 100, 100, 100, 100, 64.28571428571429, 0, 0, 0, 0, 0, 0]"
      ]
     },
     "execution_count": 43,
     "metadata": {},
     "output_type": "execute_result"
    }
   ],
   "source": [
    "exercises = [0] * (19+1)\n",
    "exercises[1] = 100\n",
    "exercises[2] = 100\n",
    "exercises[3] = 100\n",
    "exercises[4] = 100\n",
    "exercises[5] = 100\n",
    "exercises[6] = 100\n",
    "exercises[7] = 100\n",
    "exercises[8] = 9/14 * 100\n",
    "\n",
    "best_exercices = sorted(exercises[1:], reverse= True)[:14]\n",
    "best_exercices"
   ]
  },
  {
   "cell_type": "code",
   "execution_count": 44,
   "metadata": {},
   "outputs": [
    {
     "data": {
      "text/plain": [
       "[92.5, 92.0, 0, 0]"
      ]
     },
     "execution_count": 44,
     "metadata": {},
     "output_type": "execute_result"
    }
   ],
   "source": [
    "homeworks = [None] * (5 + 1)\n",
    "homeworks[0] = 92\n",
    "homeworks[1] = 37 / 40 * 100\n",
    "homeworks[2] = 23 / 25 * 100\n",
    "homeworks[3] = 0\n",
    "homeworks[4] = 0\n",
    "homeworks[5] = 0\n",
    "\n",
    "best_homeworks = sorted(homeworks[1:], reverse= True)[:4]\n",
    "best_homeworks"
   ]
  },
  {
   "cell_type": "code",
   "execution_count": 45,
   "metadata": {},
   "outputs": [
    {
     "data": {
      "text/plain": [
       "[100.0, 8.333333333333332, 0, 0]"
      ]
     },
     "execution_count": 45,
     "metadata": {},
     "output_type": "execute_result"
    }
   ],
   "source": [
    "projects = [0] * (1 + 5)\n",
    "projects[0] = 100\n",
    "projects[1] = 39/39 * 100\n",
    "projects[2] = 6 / 72 * 100\n",
    "\n",
    "best_projects = sorted(projects[1:], reverse= True)[:4]\n",
    "best_projects\n"
   ]
  },
  {
   "cell_type": "code",
   "execution_count": 46,
   "metadata": {},
   "outputs": [
    {
     "name": "stdout",
     "output_type": "stream",
     "text": [
      "26.939693877551022\n"
     ]
    }
   ],
   "source": [
    "final_grade = (\n",
    "        sum(best_exercices)/14 * 16/100 +\n",
    "        homeworks[0] * 1/100 +\n",
    "        sum(best_homeworks)/4 * 12/100 +\n",
    "        projects[0] * 2/100 +\n",
    "        sum(best_projects)/4 * 36/100\n",
    ")\n",
    "\n",
    "print(final_grade)"
   ]
  },
  {
   "cell_type": "code",
   "execution_count": null,
   "metadata": {},
   "outputs": [],
   "source": []
  }
 ],
 "metadata": {
  "interpreter": {
   "hash": "15e51f281b74df870bc96395af709f6aec195f784becb22e402cd9ef36232d0d"
  },
  "kernelspec": {
   "display_name": "Python 3.9.4 64-bit ('mitx': venv)",
   "name": "python3"
  },
  "language_info": {
   "codemirror_mode": {
    "name": "ipython",
    "version": 3
   },
   "file_extension": ".py",
   "mimetype": "text/x-python",
   "name": "python",
   "nbconvert_exporter": "python",
   "pygments_lexer": "ipython3",
   "version": "3.9.4"
  },
  "orig_nbformat": 4
 },
 "nbformat": 4,
 "nbformat_minor": 2
}
